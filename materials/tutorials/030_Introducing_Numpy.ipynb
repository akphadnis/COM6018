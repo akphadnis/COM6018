{
 "cells": [
  {
   "cell_type": "markdown",
   "id": "9573e007",
   "metadata": {},
   "source": [
    "# 030 Numerical Computing with NumPy\n",
    "\n",
    "> COM6018\n",
    "\n",
    "*Copyright &copy; 2023 Jon Barker, University of Sheffield. All rights reserved*.\n",
    "\n",
    "## 1. Introducing NumPy\n",
    "\n",
    "### 1.1 What is NumPy?\n",
    "\n",
    "*NumPy* is a core Python package for scientific computing that\n",
    "\n",
    "* provides a powerful N-dimensional array object,\n",
    "* provides highly optimised linear algebra tools,\n",
    "* has tight integration with C/C++ and Fortran code,\n",
    "* is licensed under a BSD license, i.e., it is freely reusable.\n",
    "\n",
    "### 1.2 Importing NumPy\n",
    "\n",
    "NumPy is conventionally imported using,"
   ]
  },
  {
   "cell_type": "code",
   "execution_count": 1,
   "id": "4dbd2b6d",
   "metadata": {
    "execution": {
     "iopub.execute_input": "2023-05-24T16:47:33.991083Z",
     "iopub.status.busy": "2023-05-24T16:47:33.990719Z",
     "iopub.status.idle": "2023-05-24T16:47:34.046671Z",
     "shell.execute_reply": "2023-05-24T16:47:34.045808Z"
    }
   },
   "outputs": [],
   "source": [
    "import numpy as np"
   ]
  },
  {
   "cell_type": "markdown",
   "id": "565a1a47",
   "metadata": {},
   "source": [
    "The Python keyword `as` here allows us to use 'np' as a shorthand to refer to the 'numpy' module in our code. This is a common convention and so your code will be more readable if you follow it.\n",
    "\n",
    "## 2. NumPy Arrays\n",
    "\n",
    "### 2.1 Generating a NumPy ndarray\n",
    "\n",
    "The NumPy package introduce a type called `numpy.ndarray` that is used for representing N-Dimensional arrays. An N-Dimensional array is a data structure that can be used to represent vectors, matrices, and higher-dimensional arrays. i.e., a vector is a 1-D array, a matrix is a 2-D array, etc.\n",
    "\n",
    "Arrays can be generated from various sources. These include\n",
    "\n",
    "* from Python lists containing numeric data,\n",
    "* using NumPy array generating functions, or\n",
    "* by reading data from a file.\n",
    "\n",
    "### 2.2 Generating arrays from lists\n",
    "\n",
    "In the example below we generate a 1-D array from a Python list. We start with the Python list `my_list` and then use the NumPy function `np.array` to convert it to a NumPy array which we have stored as the varible `my_array`."
   ]
  },
  {
   "cell_type": "code",
   "execution_count": 2,
   "id": "86d96ffe",
   "metadata": {
    "execution": {
     "iopub.execute_input": "2023-05-24T16:47:34.052302Z",
     "iopub.status.busy": "2023-05-24T16:47:34.051915Z",
     "iopub.status.idle": "2023-05-24T16:47:34.060308Z",
     "shell.execute_reply": "2023-05-24T16:47:34.059552Z"
    }
   },
   "outputs": [
    {
     "name": "stdout",
     "output_type": "stream",
     "text": [
      "[1, 2, 3, 4, 5]\n",
      "[1 2 3 4 5]\n",
      "<class 'list'>\n",
      "<class 'numpy.ndarray'>\n"
     ]
    }
   ],
   "source": [
    "my_list = [1, 2, 3, 4, 5]\n",
    "my_array = np.array(my_list)  # create a simple 1-D array\n",
    "print(my_list)\n",
    "print(my_array)\n",
    "print(type(my_list))\n",
    "print(type(my_array))"
   ]
  },
  {
   "cell_type": "markdown",
   "id": "10a06121",
   "metadata": {},
   "source": [
    "Note the slight differnce in appearance when we print a NumPy array versus printing a Python list.\n",
    "\n",
    "We will now construct a 2-D array (i.e., a matrix) from a list of lists,"
   ]
  },
  {
   "cell_type": "code",
   "execution_count": 3,
   "id": "f27e7c95",
   "metadata": {
    "execution": {
     "iopub.execute_input": "2023-05-24T16:47:34.065822Z",
     "iopub.status.busy": "2023-05-24T16:47:34.065497Z",
     "iopub.status.idle": "2023-05-24T16:47:34.071593Z",
     "shell.execute_reply": "2023-05-24T16:47:34.070818Z"
    }
   },
   "outputs": [],
   "source": [
    "my_2d_array = np.array([[1., 2, 3], [4, 5, 6], [7, 8, 9]])"
   ]
  },
  {
   "cell_type": "code",
   "execution_count": 4,
   "id": "ae00b0b7",
   "metadata": {
    "execution": {
     "iopub.execute_input": "2023-05-24T16:47:34.076176Z",
     "iopub.status.busy": "2023-05-24T16:47:34.075806Z",
     "iopub.status.idle": "2023-05-24T16:47:34.084562Z",
     "shell.execute_reply": "2023-05-24T16:47:34.083633Z"
    }
   },
   "outputs": [
    {
     "name": "stdout",
     "output_type": "stream",
     "text": [
      "[[1. 2. 3.]\n",
      " [4. 5. 6.]\n",
      " [7. 8. 9.]]\n"
     ]
    }
   ],
   "source": [
    "print(my_2d_array)"
   ]
  },
  {
   "cell_type": "code",
   "execution_count": 5,
   "id": "786d7ab5",
   "metadata": {
    "execution": {
     "iopub.execute_input": "2023-05-24T16:47:34.091135Z",
     "iopub.status.busy": "2023-05-24T16:47:34.090829Z",
     "iopub.status.idle": "2023-05-24T16:47:34.095725Z",
     "shell.execute_reply": "2023-05-24T16:47:34.094706Z"
    }
   },
   "outputs": [
    {
     "name": "stdout",
     "output_type": "stream",
     "text": [
      "<class 'numpy.ndarray'>\n"
     ]
    }
   ],
   "source": [
    "print(type(my_2d_array))"
   ]
  },
  {
   "cell_type": "markdown",
   "id": "be18ba1d",
   "metadata": {},
   "source": [
    "### 2.3 The ndarray object's properties\n",
    "\n",
    "The `ndarray` has various properties that we can access. The most import are `shape`, `size`, and `dtype`.\n",
    "\n",
    "The `shape` property is a tuple that gives the size of each dimension of the array."
   ]
  },
  {
   "cell_type": "code",
   "execution_count": 6,
   "id": "16577d33",
   "metadata": {
    "execution": {
     "iopub.execute_input": "2023-05-24T16:47:34.100250Z",
     "iopub.status.busy": "2023-05-24T16:47:34.099927Z",
     "iopub.status.idle": "2023-05-24T16:47:34.103958Z",
     "shell.execute_reply": "2023-05-24T16:47:34.103119Z"
    }
   },
   "outputs": [
    {
     "name": "stdout",
     "output_type": "stream",
     "text": [
      "(3, 3)\n"
     ]
    }
   ],
   "source": [
    "print(my_2d_array.shape)"
   ]
  },
  {
   "cell_type": "markdown",
   "id": "ed50a457",
   "metadata": {},
   "source": [
    "The `size` property gives the total number of elements in the array."
   ]
  },
  {
   "cell_type": "code",
   "execution_count": 7,
   "id": "ae377e58",
   "metadata": {
    "execution": {
     "iopub.execute_input": "2023-05-24T16:47:34.107644Z",
     "iopub.status.busy": "2023-05-24T16:47:34.107301Z",
     "iopub.status.idle": "2023-05-24T16:47:34.111232Z",
     "shell.execute_reply": "2023-05-24T16:47:34.110457Z"
    }
   },
   "outputs": [
    {
     "name": "stdout",
     "output_type": "stream",
     "text": [
      "9\n"
     ]
    }
   ],
   "source": [
    "print(my_2d_array.size)"
   ]
  },
  {
   "cell_type": "markdown",
   "id": "715ebbcb",
   "metadata": {},
   "source": [
    "The `dtype` property gives the data type of the array's elements (e.g., are they integers, floats, etc.)"
   ]
  },
  {
   "cell_type": "code",
   "execution_count": 8,
   "id": "c0648dcf",
   "metadata": {
    "execution": {
     "iopub.execute_input": "2023-05-24T16:47:34.115334Z",
     "iopub.status.busy": "2023-05-24T16:47:34.114792Z",
     "iopub.status.idle": "2023-05-24T16:47:34.118867Z",
     "shell.execute_reply": "2023-05-24T16:47:34.118200Z"
    }
   },
   "outputs": [
    {
     "name": "stdout",
     "output_type": "stream",
     "text": [
      "float64\n"
     ]
    }
   ],
   "source": [
    "print(my_2d_array.dtype)"
   ]
  },
  {
   "cell_type": "markdown",
   "id": "83059999",
   "metadata": {},
   "source": [
    "Tip: when working with NumPy arrays it is often useful to check the `shape` and `dtype` properties to make sure you are working with the correct type of array. Printing these properties is also a useful debugging technique and is often more useful than printing the arrays contents.\n",
    "\n",
    "### 2.4 N-dimensional arrays\n",
    "\n",
    "NumPy generalises arrays to be N-dimensional. Although we are often working with 1-d or 2-d data there are applications where higher dimensions are useful. For example, 3-d data appears often when video processing (x, y and time) and 4-d data appears in medical imaging (x, y, z and time). Note, in mathematics, N-dimensional arrays are often called tensors. (This is why Google's deep learning library is called TensorFlow.)\n",
    "\n",
    "In the example below we first create a 2-D array (`x2`) of shape 2 by 2 and then we make a 3-D array (`x3`) using a list of 4 of these 2-D arrays."
   ]
  },
  {
   "cell_type": "code",
   "execution_count": 9,
   "id": "a746a6ac",
   "metadata": {
    "execution": {
     "iopub.execute_input": "2023-05-24T16:47:34.122560Z",
     "iopub.status.busy": "2023-05-24T16:47:34.122257Z",
     "iopub.status.idle": "2023-05-24T16:47:34.127686Z",
     "shell.execute_reply": "2023-05-24T16:47:34.126946Z"
    }
   },
   "outputs": [
    {
     "name": "stdout",
     "output_type": "stream",
     "text": [
      "(4, 2, 2)\n"
     ]
    }
   ],
   "source": [
    "x2 = np.array([[1, 2], [3, 4]])  # a matrix\n",
    "x3 = np.array([x2, x2, x2, x2])  # stacking two matrices\n",
    "print(x3.shape)"
   ]
  },
  {
   "cell_type": "markdown",
   "id": "c698e906",
   "metadata": {},
   "source": [
    "The `x3` array ends up as a block of numbers of size $2 \\times 2 \\times 4$.\n",
    "\n",
    "We can then repeat this process to create a 4-D array (`x4`) by stacking 5 copies of the 3-D array to make 4-D structures..."
   ]
  },
  {
   "cell_type": "code",
   "execution_count": 10,
   "id": "d626997e",
   "metadata": {
    "execution": {
     "iopub.execute_input": "2023-05-24T16:47:34.131270Z",
     "iopub.status.busy": "2023-05-24T16:47:34.130957Z",
     "iopub.status.idle": "2023-05-24T16:47:34.136149Z",
     "shell.execute_reply": "2023-05-24T16:47:34.135420Z"
    }
   },
   "outputs": [
    {
     "name": "stdout",
     "output_type": "stream",
     "text": [
      "(5, 4, 2, 2)\n"
     ]
    }
   ],
   "source": [
    "x2 = np.array([[1, 2], [3, 4]])  # a matrix\n",
    "x3 = np.array([x2, x2, x2, x2])  # stacking two matrices\n",
    "x4 = np.array([x3, x3, x3, x3, x3])  # stacking 5 3-D structures\n",
    "print(x4.shape)"
   ]
  },
  {
   "cell_type": "markdown",
   "id": "4af1d458",
   "metadata": {},
   "source": [
    "... and stacking 4-D arrays to make 5-D arrays."
   ]
  },
  {
   "cell_type": "code",
   "execution_count": 11,
   "id": "dc9b46ee",
   "metadata": {
    "execution": {
     "iopub.execute_input": "2023-05-24T16:47:34.140152Z",
     "iopub.status.busy": "2023-05-24T16:47:34.139774Z",
     "iopub.status.idle": "2023-05-24T16:47:34.145607Z",
     "shell.execute_reply": "2023-05-24T16:47:34.144840Z"
    }
   },
   "outputs": [
    {
     "name": "stdout",
     "output_type": "stream",
     "text": [
      "(2, 5, 4, 2, 2)\n"
     ]
    }
   ],
   "source": [
    "x2 = np.array([[1, 2], [3, 4]])  # a matrix\n",
    "x3 = np.array([x2, x2, x2, x2])  # stacking two matrices\n",
    "x4 = np.array([x3, x3, x3, x3, x3])  # stacking 5 3-D structures\n",
    "x5 = np.array([x4, x4])  # stacking 2 4-D structures!\n",
    "print(x5.shape)"
   ]
  },
  {
   "cell_type": "markdown",
   "id": "c7ac84c4",
   "metadata": {},
   "source": [
    "But in COM6018 we will mostly only be using N=1 (vectors) and N=2 (matrices).\n",
    "\n",
    "## 3 Generating NumPy arrays\n",
    "\n",
    "### 3.1 Basic array generating functions\n",
    "\n",
    "NumPy provides a number of functions for generating arrays of various kinds.\n",
    "\n",
    "For example, generating a 1-D array of consecutive integers,"
   ]
  },
  {
   "cell_type": "code",
   "execution_count": 12,
   "id": "c42324d1",
   "metadata": {
    "execution": {
     "iopub.execute_input": "2023-05-24T16:47:34.149404Z",
     "iopub.status.busy": "2023-05-24T16:47:34.149002Z",
     "iopub.status.idle": "2023-05-24T16:47:34.153297Z",
     "shell.execute_reply": "2023-05-24T16:47:34.152559Z"
    }
   },
   "outputs": [
    {
     "name": "stdout",
     "output_type": "stream",
     "text": [
      "[0 1 2 3 4 5 6 7 8 9]\n"
     ]
    }
   ],
   "source": [
    "x = np.arange(10)\n",
    "print(x)"
   ]
  },
  {
   "cell_type": "markdown",
   "id": "f30c5cec",
   "metadata": {},
   "source": [
    "Or an array of evenly spaced numbers,"
   ]
  },
  {
   "cell_type": "code",
   "execution_count": 13,
   "id": "7272fe59",
   "metadata": {
    "execution": {
     "iopub.execute_input": "2023-05-24T16:47:34.157208Z",
     "iopub.status.busy": "2023-05-24T16:47:34.156891Z",
     "iopub.status.idle": "2023-05-24T16:47:34.161009Z",
     "shell.execute_reply": "2023-05-24T16:47:34.160267Z"
    }
   },
   "outputs": [
    {
     "name": "stdout",
     "output_type": "stream",
     "text": [
      "[100 102 104 106 108]\n"
     ]
    }
   ],
   "source": [
    "x = np.arange(100, 110, 2)  # start, stop, step\n",
    "print(x)"
   ]
  },
  {
   "cell_type": "markdown",
   "id": "58bc29c2",
   "metadata": {},
   "source": [
    "The `linspace` function is similar to `arange` but allows you to specify the number of points rather than the step size,"
   ]
  },
  {
   "cell_type": "code",
   "execution_count": 14,
   "id": "0ca11ad7",
   "metadata": {
    "execution": {
     "iopub.execute_input": "2023-05-24T16:47:34.165090Z",
     "iopub.status.busy": "2023-05-24T16:47:34.164779Z",
     "iopub.status.idle": "2023-05-24T16:47:34.169024Z",
     "shell.execute_reply": "2023-05-24T16:47:34.168292Z"
    }
   },
   "outputs": [
    {
     "name": "stdout",
     "output_type": "stream",
     "text": [
      "[10.  12.5 15.  17.5 20. ]\n"
     ]
    }
   ],
   "source": [
    "x = np.linspace(10, 20, 5)  # start, stop, n-points\n",
    "print(x)"
   ]
  },
  {
   "cell_type": "markdown",
   "id": "a739311f",
   "metadata": {},
   "source": [
    "We often need arrays full of zeros or ones. NumPy provides functions for this,"
   ]
  },
  {
   "cell_type": "code",
   "execution_count": 15,
   "id": "7dadfbd5",
   "metadata": {
    "execution": {
     "iopub.execute_input": "2023-05-24T16:47:34.173087Z",
     "iopub.status.busy": "2023-05-24T16:47:34.172779Z",
     "iopub.status.idle": "2023-05-24T16:47:34.177322Z",
     "shell.execute_reply": "2023-05-24T16:47:34.176515Z"
    }
   },
   "outputs": [
    {
     "name": "stdout",
     "output_type": "stream",
     "text": [
      "[[[0. 0. 0.]\n",
      "  [0. 0. 0.]\n",
      "  [0. 0. 0.]]\n",
      "\n",
      " [[0. 0. 0.]\n",
      "  [0. 0. 0.]\n",
      "  [0. 0. 0.]]\n",
      "\n",
      " [[0. 0. 0.]\n",
      "  [0. 0. 0.]\n",
      "  [0. 0. 0.]]]\n"
     ]
    }
   ],
   "source": [
    "x = np.zeros( (3, 3, 3) )  # Note, argument is a tuple\n",
    "print(x)"
   ]
  },
  {
   "cell_type": "markdown",
   "id": "5629978d",
   "metadata": {},
   "source": [
    "Note, that the `zeros()` function has a single argument specifying the desired array shape. This argument is a tuple. For example, in the above, the argument has value (3,3,3) which means we want a 3-D array with 3 elements in each dimension. I have placed spaces between the parentheses to make it clear that this is a tuple. However, the spaces are not necessary and you will more often see this written as `np.zeros((3,3,3))`. (When you see it written like this, do not be confused into thinking the double brackets are redundant. You cannot rewrite this as `np.zeros(3,3,3)`. This is computer programming, not mathematics. :smile: )\n",
    "\n",
    "Similarly, to make an array full of ones we can use,"
   ]
  },
  {
   "cell_type": "code",
   "execution_count": 16,
   "id": "36173596",
   "metadata": {
    "execution": {
     "iopub.execute_input": "2023-05-24T16:47:34.184972Z",
     "iopub.status.busy": "2023-05-24T16:47:34.184632Z",
     "iopub.status.idle": "2023-05-24T16:47:34.189873Z",
     "shell.execute_reply": "2023-05-24T16:47:34.188798Z"
    }
   },
   "outputs": [
    {
     "name": "stdout",
     "output_type": "stream",
     "text": [
      "[[1. 1. 1. 1. 1.]\n",
      " [1. 1. 1. 1. 1.]]\n"
     ]
    }
   ],
   "source": [
    "x = np.ones((2, 5))\n",
    "print(x)"
   ]
  },
  {
   "cell_type": "markdown",
   "id": "dd3ba6fc",
   "metadata": {},
   "source": [
    "### 3.2 More array generating functions\n",
    "\n",
    "The `diag` function can be used to generate diagonal matrices where we specify the numbers that we want to appear on the leading diagonal. For example a 3 by 3 matrix with 4, 5 and 3 along the diagonal can be generated with,"
   ]
  },
  {
   "cell_type": "code",
   "execution_count": 17,
   "id": "56e09fd5",
   "metadata": {
    "execution": {
     "iopub.execute_input": "2023-05-24T16:47:34.195635Z",
     "iopub.status.busy": "2023-05-24T16:47:34.195293Z",
     "iopub.status.idle": "2023-05-24T16:47:34.199892Z",
     "shell.execute_reply": "2023-05-24T16:47:34.199104Z"
    }
   },
   "outputs": [
    {
     "name": "stdout",
     "output_type": "stream",
     "text": [
      "[[4 0 0]\n",
      " [0 5 0]\n",
      " [0 0 3]]\n"
     ]
    }
   ],
   "source": [
    "x = np.diag((4, 5, 3))\n",
    "print(x)"
   ]
  },
  {
   "cell_type": "markdown",
   "id": "9d7a9d79",
   "metadata": {},
   "source": [
    "There is an optional parameter `k` that allows us to instead specify a diagonal that is displaced from the leading diagonal. This is most easily explained with an example,"
   ]
  },
  {
   "cell_type": "code",
   "execution_count": 18,
   "id": "b611e7d9",
   "metadata": {
    "execution": {
     "iopub.execute_input": "2023-05-24T16:47:34.205918Z",
     "iopub.status.busy": "2023-05-24T16:47:34.205517Z",
     "iopub.status.idle": "2023-05-24T16:47:34.210707Z",
     "shell.execute_reply": "2023-05-24T16:47:34.210029Z"
    }
   },
   "outputs": [
    {
     "name": "stdout",
     "output_type": "stream",
     "text": [
      "[[0 0 0 2 0]\n",
      " [0 0 0 0 2]\n",
      " [0 0 0 0 0]\n",
      " [0 0 0 0 0]\n",
      " [0 0 0 0 0]]\n"
     ]
    }
   ],
   "source": [
    "x = np.diag((2, 2), k=3)\n",
    "print(x)"
   ]
  },
  {
   "cell_type": "markdown",
   "id": "d3339239",
   "metadata": {},
   "source": [
    "By summing matrices of this form we can make any banded-diagonal matrix, e.g.,"
   ]
  },
  {
   "cell_type": "code",
   "execution_count": 19,
   "id": "8d9b1b78",
   "metadata": {
    "execution": {
     "iopub.execute_input": "2023-05-24T16:47:34.216225Z",
     "iopub.status.busy": "2023-05-24T16:47:34.215915Z",
     "iopub.status.idle": "2023-05-24T16:47:34.220961Z",
     "shell.execute_reply": "2023-05-24T16:47:34.220179Z"
    }
   },
   "outputs": [
    {
     "name": "stdout",
     "output_type": "stream",
     "text": [
      "[[1 2 0]\n",
      " [2 1 2]\n",
      " [0 2 1]]\n"
     ]
    }
   ],
   "source": [
    "x = np.diag((1, 1, 1)) + np.diag((2, 2), k=1) + np.diag((2, 2), k=-1)\n",
    "print(x)"
   ]
  },
  {
   "cell_type": "markdown",
   "id": "84203d2e",
   "metadata": {},
   "source": [
    "Using `diag` we could make an identity matrix, which has 1's along the leading diagonal. However, because the identity matrix is used so often, NumPy provides a dedicated function for generating it, `eye` which has a single parameter which determines the number of rows and columns,"
   ]
  },
  {
   "cell_type": "code",
   "execution_count": 20,
   "id": "4d5ffd5c",
   "metadata": {
    "execution": {
     "iopub.execute_input": "2023-05-24T16:47:34.226634Z",
     "iopub.status.busy": "2023-05-24T16:47:34.226271Z",
     "iopub.status.idle": "2023-05-24T16:47:34.230795Z",
     "shell.execute_reply": "2023-05-24T16:47:34.230096Z"
    }
   },
   "outputs": [
    {
     "name": "stdout",
     "output_type": "stream",
     "text": [
      "[[1. 0. 0. 0. 0. 0.]\n",
      " [0. 1. 0. 0. 0. 0.]\n",
      " [0. 0. 1. 0. 0. 0.]\n",
      " [0. 0. 0. 1. 0. 0.]\n",
      " [0. 0. 0. 0. 1. 0.]\n",
      " [0. 0. 0. 0. 0. 1.]]\n"
     ]
    }
   ],
   "source": [
    "x = np.eye(6)\n",
    "print(x)"
   ]
  },
  {
   "cell_type": "markdown",
   "id": "468a2baf",
   "metadata": {},
   "source": [
    "### 3.3 Arrays initialised with random numbers\n",
    "\n",
    "NumPy provides a number of functions for generating arrays of random numbers. The most useful are `rand` and `randn` which appear in the the submodule `numpy.random`.  `rand` uses random numbers that are uniformly distributed between 0 and 1. `randn` uses random numbers that are normally distributed with mean 0 and standard deviation 1.\n",
    "\n",
    "For example, to generate a 2 by 4 matrix of random numbers,"
   ]
  },
  {
   "cell_type": "code",
   "execution_count": 21,
   "id": "411f60fe",
   "metadata": {
    "execution": {
     "iopub.execute_input": "2023-05-24T16:47:34.236707Z",
     "iopub.status.busy": "2023-05-24T16:47:34.236340Z",
     "iopub.status.idle": "2023-05-24T16:47:34.246046Z",
     "shell.execute_reply": "2023-05-24T16:47:34.245244Z"
    }
   },
   "outputs": [
    {
     "data": {
      "text/plain": [
       "array([[0.63165849, 0.28844087, 0.88363994, 0.55376236],\n",
       "       [0.80020899, 0.10347936, 0.02883397, 0.38620069]])"
      ]
     },
     "execution_count": 21,
     "metadata": {},
     "output_type": "execute_result"
    }
   ],
   "source": [
    "np.random.rand(2, 4)  # uniform distribution between 0 and 1"
   ]
  },
  {
   "cell_type": "markdown",
   "id": "cc17142a",
   "metadata": {},
   "source": [
    "or,"
   ]
  },
  {
   "cell_type": "code",
   "execution_count": 22,
   "id": "8629880f",
   "metadata": {
    "execution": {
     "iopub.execute_input": "2023-05-24T16:47:34.252649Z",
     "iopub.status.busy": "2023-05-24T16:47:34.252320Z",
     "iopub.status.idle": "2023-05-24T16:47:34.257792Z",
     "shell.execute_reply": "2023-05-24T16:47:34.257141Z"
    }
   },
   "outputs": [
    {
     "data": {
      "text/plain": [
       "array([[-0.50236841,  0.12310025, -0.17836817, -0.27008761],\n",
       "       [-0.90793699, -0.92448925, -1.20338485,  0.34307349]])"
      ]
     },
     "execution_count": 22,
     "metadata": {},
     "output_type": "execute_result"
    }
   ],
   "source": [
    "np.random.randn(2, 4)  # standard normal distribution"
   ]
  },
  {
   "cell_type": "markdown",
   "id": "f8ff15bd",
   "metadata": {},
   "source": [
    "### 3.4 Reading arrays from files\n",
    "\n",
    "Finally, we might want to generate arrays by reading data from a file. NumPy provides a number of functions for this,\n",
    "\n",
    "* `genfromtxt` and `savetxt` for reading and writing to text files.\n",
    "* `load` and `save` for reading and writing in NumPy's native format.\n",
    "\n",
    "For the example below, we will use data from a text file `data/liver_data_20.txt` whihc has 20 rows of data stored in CSV format,"
   ]
  },
  {
   "cell_type": "code",
   "execution_count": 23,
   "id": "7e493860",
   "metadata": {
    "execution": {
     "iopub.execute_input": "2023-05-24T16:47:34.263635Z",
     "iopub.status.busy": "2023-05-24T16:47:34.263347Z",
     "iopub.status.idle": "2023-05-24T16:47:34.278333Z",
     "shell.execute_reply": "2023-05-24T16:47:34.278074Z"
    }
   },
   "outputs": [
    {
     "name": "stdout",
     "output_type": "stream",
     "text": [
      "92,45,27,31,0.0,1\n",
      "64,59,32,23,0.0,2\n",
      "54,33,16,54,0.0,2\n",
      "78,34,24,36,0.0,2\n",
      "70,12,28,10,0.0,2\n",
      "55,13,17,17,0.0,2\n",
      "62,20,17,9,0.5,1\n",
      "67,21,11,11,0.5,1\n",
      "54,22,20,7,0.5,1\n",
      "60,25,19,5,0.5,1\n",
      "52,13,24,15,0.5,1\n",
      "62,17,17,15,0.5,1\n",
      "64,61,32,13,0.5,1\n",
      "77,25,19,18,0.5,1\n",
      "67,29,20,11,0.5,1\n",
      "78,20,31,18,0.5,1\n",
      "67,23,16,10,0.5,1\n",
      "79,17,17,16,0.5,1\n",
      "107,20,20,56,0.5,1\n",
      "116,11,33,11,0.5,1\n"
     ]
    }
   ],
   "source": [
    "cat data/liver_data_20.txt"
   ]
  },
  {
   "cell_type": "markdown",
   "id": "552d1996",
   "metadata": {},
   "source": [
    "To read this into a NumPy array we silmply use,"
   ]
  },
  {
   "cell_type": "code",
   "execution_count": 24,
   "id": "d7db1525",
   "metadata": {
    "execution": {
     "iopub.execute_input": "2023-05-24T16:47:34.283205Z",
     "iopub.status.busy": "2023-05-24T16:47:34.283095Z",
     "iopub.status.idle": "2023-05-24T16:47:34.285907Z",
     "shell.execute_reply": "2023-05-24T16:47:34.285656Z"
    }
   },
   "outputs": [
    {
     "name": "stdout",
     "output_type": "stream",
     "text": [
      "[[ 92.   45.   27.   31.    0.    1. ]\n",
      " [ 64.   59.   32.   23.    0.    2. ]\n",
      " [ 54.   33.   16.   54.    0.    2. ]\n",
      " [ 78.   34.   24.   36.    0.    2. ]\n",
      " [ 70.   12.   28.   10.    0.    2. ]\n",
      " [ 55.   13.   17.   17.    0.    2. ]\n",
      " [ 62.   20.   17.    9.    0.5   1. ]\n",
      " [ 67.   21.   11.   11.    0.5   1. ]\n",
      " [ 54.   22.   20.    7.    0.5   1. ]\n",
      " [ 60.   25.   19.    5.    0.5   1. ]\n",
      " [ 52.   13.   24.   15.    0.5   1. ]\n",
      " [ 62.   17.   17.   15.    0.5   1. ]\n",
      " [ 64.   61.   32.   13.    0.5   1. ]\n",
      " [ 77.   25.   19.   18.    0.5   1. ]\n",
      " [ 67.   29.   20.   11.    0.5   1. ]\n",
      " [ 78.   20.   31.   18.    0.5   1. ]\n",
      " [ 67.   23.   16.   10.    0.5   1. ]\n",
      " [ 79.   17.   17.   16.    0.5   1. ]\n",
      " [107.   20.   20.   56.    0.5   1. ]\n",
      " [116.   11.   33.   11.    0.5   1. ]]\n"
     ]
    }
   ],
   "source": [
    "x = np.genfromtxt(\"data/liver_data_20.txt\", delimiter=\",\")  # for reading a csv file\n",
    "print(x)"
   ]
  },
  {
   "cell_type": "markdown",
   "id": "87929cbf",
   "metadata": {},
   "source": [
    "The `delimiter` parameter specifies that the data is separated by commas. (The default is to assume that the data is separated by spaces.)\n",
    "\n",
    "Saving a NumPy array to a file is also easy,"
   ]
  },
  {
   "cell_type": "code",
   "execution_count": 25,
   "id": "2d9ce05d",
   "metadata": {
    "execution": {
     "iopub.execute_input": "2023-05-24T16:47:34.287374Z",
     "iopub.status.busy": "2023-05-24T16:47:34.287266Z",
     "iopub.status.idle": "2023-05-24T16:47:34.289971Z",
     "shell.execute_reply": "2023-05-24T16:47:34.289746Z"
    }
   },
   "outputs": [],
   "source": [
    "x = np.genfromtxt(\"data/liver_data_20.txt\", delimiter=\",\")  # for reading a csv file\n",
    "np.savetxt(\"data/matrix.tsv\", x, delimiter=\"\\t\", fmt=\"%.5f\")"
   ]
  },
  {
   "cell_type": "markdown",
   "id": "5e389c7e",
   "metadata": {},
   "source": [
    "Here we have saved in a tab-separated format with 5 decimal places of precision."
   ]
  },
  {
   "cell_type": "code",
   "execution_count": 26,
   "id": "05e6c07f",
   "metadata": {
    "execution": {
     "iopub.execute_input": "2023-05-24T16:47:34.291286Z",
     "iopub.status.busy": "2023-05-24T16:47:34.291184Z",
     "iopub.status.idle": "2023-05-24T16:47:34.302510Z",
     "shell.execute_reply": "2023-05-24T16:47:34.302241Z"
    }
   },
   "outputs": [
    {
     "name": "stdout",
     "output_type": "stream",
     "text": [
      "92.00000\t45.00000\t27.00000\t31.00000\t0.00000\t1.00000\n",
      "64.00000\t59.00000\t32.00000\t23.00000\t0.00000\t2.00000\n",
      "54.00000\t33.00000\t16.00000\t54.00000\t0.00000\t2.00000\n",
      "78.00000\t34.00000\t24.00000\t36.00000\t0.00000\t2.00000\n",
      "70.00000\t12.00000\t28.00000\t10.00000\t0.00000\t2.00000\n",
      "55.00000\t13.00000\t17.00000\t17.00000\t0.00000\t2.00000\n",
      "62.00000\t20.00000\t17.00000\t9.00000\t0.50000\t1.00000\n",
      "67.00000\t21.00000\t11.00000\t11.00000\t0.50000\t1.00000\n",
      "54.00000\t22.00000\t20.00000\t7.00000\t0.50000\t1.00000\n",
      "60.00000\t25.00000\t19.00000\t5.00000\t0.50000\t1.00000\n",
      "52.00000\t13.00000\t24.00000\t15.00000\t0.50000\t1.00000\n",
      "62.00000\t17.00000\t17.00000\t15.00000\t0.50000\t1.00000\n",
      "64.00000\t61.00000\t32.00000\t13.00000\t0.50000\t1.00000\n",
      "77.00000\t25.00000\t19.00000\t18.00000\t0.50000\t1.00000\n",
      "67.00000\t29.00000\t20.00000\t11.00000\t0.50000\t1.00000\n",
      "78.00000\t20.00000\t31.00000\t18.00000\t0.50000\t1.00000\n",
      "67.00000\t23.00000\t16.00000\t10.00000\t0.50000\t1.00000\n",
      "79.00000\t17.00000\t17.00000\t16.00000\t0.50000\t1.00000\n",
      "107.00000\t20.00000\t20.00000\t56.00000\t0.50000\t1.00000\n",
      "116.00000\t11.00000\t33.00000\t11.00000\t0.50000\t1.00000\n"
     ]
    }
   ],
   "source": [
    "cat data/matrix.tsv"
   ]
  },
  {
   "cell_type": "markdown",
   "id": "56682ae7",
   "metadata": {},
   "source": [
    "## 4 Array manipulation\n",
    "\n",
    "### 4.1 Indexing and slicing\n",
    "\n",
    "indexing is similar to Python lists"
   ]
  },
  {
   "cell_type": "code",
   "execution_count": 27,
   "id": "2fddc2b0",
   "metadata": {
    "execution": {
     "iopub.execute_input": "2023-05-24T16:47:34.307077Z",
     "iopub.status.busy": "2023-05-24T16:47:34.306965Z",
     "iopub.status.idle": "2023-05-24T16:47:34.309280Z",
     "shell.execute_reply": "2023-05-24T16:47:34.309037Z"
    }
   },
   "outputs": [
    {
     "name": "stdout",
     "output_type": "stream",
     "text": [
      "1\n",
      "[3 4 5]\n",
      "[1 2 3 4]\n",
      "[5 6 7]\n"
     ]
    }
   ],
   "source": [
    "x = np.array([1, 2, 3, 4, 5, 6, 7])\n",
    "print(x[0])\n",
    "print(x[2:5])\n",
    "print(x[:4])\n",
    "print(x[4:])"
   ]
  },
  {
   "cell_type": "markdown",
   "id": "800962bf",
   "metadata": {},
   "source": [
    "But it is generalised to n-dimensions"
   ]
  },
  {
   "cell_type": "code",
   "execution_count": 28,
   "id": "076f2d60",
   "metadata": {
    "execution": {
     "iopub.execute_input": "2023-05-24T16:47:34.310642Z",
     "iopub.status.busy": "2023-05-24T16:47:34.310541Z",
     "iopub.status.idle": "2023-05-24T16:47:34.312388Z",
     "shell.execute_reply": "2023-05-24T16:47:34.312163Z"
    }
   },
   "outputs": [
    {
     "name": "stdout",
     "output_type": "stream",
     "text": [
      "[[0.59522766 0.10495042]\n",
      " [0.84528221 0.67833929]]\n"
     ]
    }
   ],
   "source": [
    "x = np.random.rand(5, 5)\n",
    "print(x[2:4, :2])"
   ]
  },
  {
   "cell_type": "markdown",
   "id": "3ed971a7",
   "metadata": {},
   "source": [
    "### 4.2 Extracting a row or column vector from a matrix"
   ]
  },
  {
   "cell_type": "code",
   "execution_count": 29,
   "id": "8a498690",
   "metadata": {
    "execution": {
     "iopub.execute_input": "2023-05-24T16:47:34.313735Z",
     "iopub.status.busy": "2023-05-24T16:47:34.313631Z",
     "iopub.status.idle": "2023-05-24T16:47:34.315877Z",
     "shell.execute_reply": "2023-05-24T16:47:34.315635Z"
    }
   },
   "outputs": [],
   "source": [
    "A = np.genfromtxt(\"data/test_matrix.txt\")"
   ]
  },
  {
   "cell_type": "code",
   "execution_count": 30,
   "id": "2bfea7e9",
   "metadata": {
    "execution": {
     "iopub.execute_input": "2023-05-24T16:47:34.317294Z",
     "iopub.status.busy": "2023-05-24T16:47:34.317202Z",
     "iopub.status.idle": "2023-05-24T16:47:34.318870Z",
     "shell.execute_reply": "2023-05-24T16:47:34.318631Z"
    }
   },
   "outputs": [
    {
     "name": "stdout",
     "output_type": "stream",
     "text": [
      "[[ 0.  1.  2.  3.  4.]\n",
      " [10. 11. 12. 13. 14.]\n",
      " [20. 21. 22. 23. 24.]\n",
      " [30. 31. 32. 33. 34.]\n",
      " [40. 41. 42. 43. 44.]]\n"
     ]
    }
   ],
   "source": [
    "print(A)"
   ]
  },
  {
   "cell_type": "code",
   "execution_count": 31,
   "id": "21e9e747",
   "metadata": {
    "execution": {
     "iopub.execute_input": "2023-05-24T16:47:34.320172Z",
     "iopub.status.busy": "2023-05-24T16:47:34.320071Z",
     "iopub.status.idle": "2023-05-24T16:47:34.322030Z",
     "shell.execute_reply": "2023-05-24T16:47:34.321816Z"
    }
   },
   "outputs": [
    {
     "name": "stdout",
     "output_type": "stream",
     "text": [
      "[21. 22. 23.]\n",
      "(3,)\n"
     ]
    }
   ],
   "source": [
    "print(A[2, 1:4])  # extract row 2  (can also write as A[2])\n",
    "print(A[2, 1:4].shape)"
   ]
  },
  {
   "cell_type": "code",
   "execution_count": 32,
   "id": "d375af6b",
   "metadata": {
    "execution": {
     "iopub.execute_input": "2023-05-24T16:47:34.323314Z",
     "iopub.status.busy": "2023-05-24T16:47:34.323240Z",
     "iopub.status.idle": "2023-05-24T16:47:34.325151Z",
     "shell.execute_reply": "2023-05-24T16:47:34.324844Z"
    }
   },
   "outputs": [
    {
     "name": "stdout",
     "output_type": "stream",
     "text": [
      "[ 2. 12. 22. 32. 42.]\n",
      "(5,)\n"
     ]
    }
   ],
   "source": [
    "print(A[:, 2])  # extract column 2\n",
    "print(A[:, 2].shape)"
   ]
  },
  {
   "cell_type": "markdown",
   "id": "9d3cf441",
   "metadata": {},
   "source": [
    "### 4.3 Some basic operations\n",
    "\n",
    "The NumPy ndarray object has many methods.\n",
    "\n",
    "e.g., `min`, `max`, `sum`, `product`, `mean`"
   ]
  },
  {
   "cell_type": "code",
   "execution_count": 33,
   "id": "d2ef74c6",
   "metadata": {
    "execution": {
     "iopub.execute_input": "2023-05-24T16:47:34.326487Z",
     "iopub.status.busy": "2023-05-24T16:47:34.326412Z",
     "iopub.status.idle": "2023-05-24T16:47:34.328072Z",
     "shell.execute_reply": "2023-05-24T16:47:34.327841Z"
    }
   },
   "outputs": [],
   "source": [
    "x = np.array([1, 2, 3, 4, 5, 6])"
   ]
  },
  {
   "cell_type": "code",
   "execution_count": 34,
   "id": "fb44ab0c",
   "metadata": {
    "execution": {
     "iopub.execute_input": "2023-05-24T16:47:34.329441Z",
     "iopub.status.busy": "2023-05-24T16:47:34.329362Z",
     "iopub.status.idle": "2023-05-24T16:47:34.331123Z",
     "shell.execute_reply": "2023-05-24T16:47:34.330867Z"
    }
   },
   "outputs": [
    {
     "name": "stdout",
     "output_type": "stream",
     "text": [
      "1 6\n"
     ]
    }
   ],
   "source": [
    "print(x.min(), x.max())"
   ]
  },
  {
   "cell_type": "code",
   "execution_count": 35,
   "id": "75b6bb91",
   "metadata": {
    "execution": {
     "iopub.execute_input": "2023-05-24T16:47:34.332546Z",
     "iopub.status.busy": "2023-05-24T16:47:34.332468Z",
     "iopub.status.idle": "2023-05-24T16:47:34.334201Z",
     "shell.execute_reply": "2023-05-24T16:47:34.333963Z"
    }
   },
   "outputs": [
    {
     "name": "stdout",
     "output_type": "stream",
     "text": [
      "21 720\n"
     ]
    }
   ],
   "source": [
    "print(x.sum(), x.prod())"
   ]
  },
  {
   "cell_type": "code",
   "execution_count": 36,
   "id": "bb4696e2",
   "metadata": {
    "execution": {
     "iopub.execute_input": "2023-05-24T16:47:34.335631Z",
     "iopub.status.busy": "2023-05-24T16:47:34.335540Z",
     "iopub.status.idle": "2023-05-24T16:47:34.337651Z",
     "shell.execute_reply": "2023-05-24T16:47:34.337326Z"
    }
   },
   "outputs": [
    {
     "name": "stdout",
     "output_type": "stream",
     "text": [
      "3.5 2.9166666666666665\n"
     ]
    }
   ],
   "source": [
    "print(x.mean(), x.var())"
   ]
  },
  {
   "cell_type": "markdown",
   "id": "b0df6150",
   "metadata": {},
   "source": [
    "These operations can be applied to arrays with more than one dimension"
   ]
  },
  {
   "cell_type": "code",
   "execution_count": 37,
   "id": "031dffaf",
   "metadata": {
    "execution": {
     "iopub.execute_input": "2023-05-24T16:47:34.339236Z",
     "iopub.status.busy": "2023-05-24T16:47:34.339128Z",
     "iopub.status.idle": "2023-05-24T16:47:34.341089Z",
     "shell.execute_reply": "2023-05-24T16:47:34.340862Z"
    }
   },
   "outputs": [],
   "source": [
    "A = np.genfromtxt(\"data/test_matrix.txt\")"
   ]
  },
  {
   "cell_type": "code",
   "execution_count": 38,
   "id": "307533c9",
   "metadata": {
    "execution": {
     "iopub.execute_input": "2023-05-24T16:47:34.342530Z",
     "iopub.status.busy": "2023-05-24T16:47:34.342429Z",
     "iopub.status.idle": "2023-05-24T16:47:34.344313Z",
     "shell.execute_reply": "2023-05-24T16:47:34.344076Z"
    }
   },
   "outputs": [
    {
     "name": "stdout",
     "output_type": "stream",
     "text": [
      "[[ 0.  1.  2.  3.  4.]\n",
      " [10. 11. 12. 13. 14.]\n",
      " [20. 21. 22. 23. 24.]\n",
      " [30. 31. 32. 33. 34.]\n",
      " [40. 41. 42. 43. 44.]]\n"
     ]
    }
   ],
   "source": [
    "print(A)"
   ]
  },
  {
   "cell_type": "code",
   "execution_count": 39,
   "id": "e29d1c27",
   "metadata": {
    "execution": {
     "iopub.execute_input": "2023-05-24T16:47:34.345715Z",
     "iopub.status.busy": "2023-05-24T16:47:34.345620Z",
     "iopub.status.idle": "2023-05-24T16:47:34.347356Z",
     "shell.execute_reply": "2023-05-24T16:47:34.347099Z"
    }
   },
   "outputs": [
    {
     "name": "stdout",
     "output_type": "stream",
     "text": [
      "0.0 44.0\n"
     ]
    }
   ],
   "source": [
    "print(A.min(), A.max())"
   ]
  },
  {
   "cell_type": "code",
   "execution_count": 40,
   "id": "84aee841",
   "metadata": {
    "execution": {
     "iopub.execute_input": "2023-05-24T16:47:34.348802Z",
     "iopub.status.busy": "2023-05-24T16:47:34.348695Z",
     "iopub.status.idle": "2023-05-24T16:47:34.350554Z",
     "shell.execute_reply": "2023-05-24T16:47:34.350324Z"
    }
   },
   "outputs": [
    {
     "name": "stdout",
     "output_type": "stream",
     "text": [
      "[20. 21. 22. 23. 24.]\n",
      "[100. 105. 110. 115. 120.]\n"
     ]
    }
   ],
   "source": [
    "mean_values = A.mean(axis=0)\n",
    "sum_values = A.sum(axis=0)\n",
    "print(mean_values)\n",
    "print(sum_values)"
   ]
  },
  {
   "cell_type": "markdown",
   "id": "6ca23666",
   "metadata": {},
   "source": [
    "## 5 Working with NumPy arrays\n",
    "\n",
    "### 5.1 Reshaping and resizing\n",
    "\n",
    "It's sometimes necessary to wrap a vector into a matrix or unwrap a matrix into a vector"
   ]
  },
  {
   "cell_type": "code",
   "execution_count": 41,
   "id": "a0f1db20",
   "metadata": {
    "execution": {
     "iopub.execute_input": "2023-05-24T16:47:34.351938Z",
     "iopub.status.busy": "2023-05-24T16:47:34.351845Z",
     "iopub.status.idle": "2023-05-24T16:47:34.353531Z",
     "shell.execute_reply": "2023-05-24T16:47:34.353301Z"
    }
   },
   "outputs": [],
   "source": [
    "M = np.array([1, 2, 3, 4, 5, 6, 7, 8, 9]).reshape(3, 3)"
   ]
  },
  {
   "cell_type": "code",
   "execution_count": 42,
   "id": "9eac7366",
   "metadata": {
    "execution": {
     "iopub.execute_input": "2023-05-24T16:47:34.354843Z",
     "iopub.status.busy": "2023-05-24T16:47:34.354767Z",
     "iopub.status.idle": "2023-05-24T16:47:34.356571Z",
     "shell.execute_reply": "2023-05-24T16:47:34.356352Z"
    }
   },
   "outputs": [
    {
     "name": "stdout",
     "output_type": "stream",
     "text": [
      "[[1 2 3]\n",
      " [4 5 6]\n",
      " [7 8 9]]\n"
     ]
    }
   ],
   "source": [
    "print(M)"
   ]
  },
  {
   "cell_type": "code",
   "execution_count": 43,
   "id": "0227f01e",
   "metadata": {
    "execution": {
     "iopub.execute_input": "2023-05-24T16:47:34.357917Z",
     "iopub.status.busy": "2023-05-24T16:47:34.357842Z",
     "iopub.status.idle": "2023-05-24T16:47:34.359604Z",
     "shell.execute_reply": "2023-05-24T16:47:34.359373Z"
    }
   },
   "outputs": [
    {
     "name": "stdout",
     "output_type": "stream",
     "text": [
      "[1 2 3 4 5 6 7 8 9]\n"
     ]
    }
   ],
   "source": [
    "v = M.reshape(9)\n",
    "print(v)"
   ]
  },
  {
   "cell_type": "code",
   "execution_count": 44,
   "id": "4661038a",
   "metadata": {
    "execution": {
     "iopub.execute_input": "2023-05-24T16:47:34.360940Z",
     "iopub.status.busy": "2023-05-24T16:47:34.360861Z",
     "iopub.status.idle": "2023-05-24T16:47:34.502419Z",
     "shell.execute_reply": "2023-05-24T16:47:34.502178Z"
    },
    "tags": [
     "raises-exception"
    ]
   },
   "outputs": [
    {
     "ename": "ValueError",
     "evalue": "cannot reshape array of size 9 into shape (8,)",
     "output_type": "error",
     "traceback": [
      "\u001b[0;31m---------------------------------------------------------------------------\u001b[0m",
      "\u001b[0;31mValueError\u001b[0m                                Traceback (most recent call last)",
      "Cell \u001b[0;32mIn[44], line 4\u001b[0m\n\u001b[1;32m      1\u001b[0m \u001b[38;5;66;03m# The following line will generate an error\u001b[39;00m\n\u001b[1;32m      2\u001b[0m \u001b[38;5;66;03m# because reshape cannot change the number of elements\u001b[39;00m\n\u001b[0;32m----> 4\u001b[0m v \u001b[38;5;241m=\u001b[39m \u001b[43mM\u001b[49m\u001b[38;5;241;43m.\u001b[39;49m\u001b[43mreshape\u001b[49m\u001b[43m(\u001b[49m\u001b[38;5;241;43m8\u001b[39;49m\u001b[43m)\u001b[49m\n",
      "\u001b[0;31mValueError\u001b[0m: cannot reshape array of size 9 into shape (8,)"
     ]
    }
   ],
   "source": [
    "# The following line will generate an error\n",
    "# because reshape cannot change the number of elements\n",
    "\n",
    "v = M.reshape(8)"
   ]
  },
  {
   "cell_type": "markdown",
   "id": "4f405f81",
   "metadata": {},
   "source": [
    "### 5.2 Adding a new dimension\n",
    "\n",
    "Can easily turn 1-D vectors in 2-D matrices"
   ]
  },
  {
   "cell_type": "code",
   "execution_count": 45,
   "id": "d13c0616",
   "metadata": {
    "execution": {
     "iopub.execute_input": "2023-05-24T16:47:34.503954Z",
     "iopub.status.busy": "2023-05-24T16:47:34.503870Z",
     "iopub.status.idle": "2023-05-24T16:47:34.505600Z",
     "shell.execute_reply": "2023-05-24T16:47:34.505346Z"
    }
   },
   "outputs": [],
   "source": [
    "v = np.array([1, 2, 3, 4, 5])"
   ]
  },
  {
   "cell_type": "code",
   "execution_count": 46,
   "id": "3e8c5a71",
   "metadata": {
    "execution": {
     "iopub.execute_input": "2023-05-24T16:47:34.506922Z",
     "iopub.status.busy": "2023-05-24T16:47:34.506848Z",
     "iopub.status.idle": "2023-05-24T16:47:34.508615Z",
     "shell.execute_reply": "2023-05-24T16:47:34.508391Z"
    }
   },
   "outputs": [
    {
     "name": "stdout",
     "output_type": "stream",
     "text": [
      "[1 2 3 4 5]\n",
      "(5,)\n"
     ]
    }
   ],
   "source": [
    "print(v)\n",
    "print(v.shape)"
   ]
  },
  {
   "cell_type": "code",
   "execution_count": 47,
   "id": "0399a2cc",
   "metadata": {
    "execution": {
     "iopub.execute_input": "2023-05-24T16:47:34.509929Z",
     "iopub.status.busy": "2023-05-24T16:47:34.509847Z",
     "iopub.status.idle": "2023-05-24T16:47:34.511598Z",
     "shell.execute_reply": "2023-05-24T16:47:34.511365Z"
    }
   },
   "outputs": [
    {
     "name": "stdout",
     "output_type": "stream",
     "text": [
      "[[1 2 3 4 5]]\n",
      "(1, 5)\n"
     ]
    }
   ],
   "source": [
    "v_row = v[np.newaxis, :]  # turn a vector into a 1-row matrix\n",
    "print(v_row)\n",
    "print(v_row.shape)"
   ]
  },
  {
   "cell_type": "code",
   "execution_count": 48,
   "id": "6b688faf",
   "metadata": {
    "execution": {
     "iopub.execute_input": "2023-05-24T16:47:34.512898Z",
     "iopub.status.busy": "2023-05-24T16:47:34.512815Z",
     "iopub.status.idle": "2023-05-24T16:47:34.514595Z",
     "shell.execute_reply": "2023-05-24T16:47:34.514375Z"
    }
   },
   "outputs": [
    {
     "name": "stdout",
     "output_type": "stream",
     "text": [
      "[[1]\n",
      " [2]\n",
      " [3]\n",
      " [4]\n",
      " [5]]\n",
      "(5, 1)\n"
     ]
    }
   ],
   "source": [
    "v_col = v[:, np.newaxis]  # turn a vector into a 1-column matrix\n",
    "print(v_col)\n",
    "print(v_col.shape)"
   ]
  },
  {
   "cell_type": "markdown",
   "id": "88a83289",
   "metadata": {},
   "source": [
    "### 5.3 Stacking arrays\n",
    "\n",
    "Arrays with compatible dimensions can be joined horizontally or vertically"
   ]
  },
  {
   "cell_type": "code",
   "execution_count": 49,
   "id": "7ece67e9",
   "metadata": {
    "execution": {
     "iopub.execute_input": "2023-05-24T16:47:34.516107Z",
     "iopub.status.busy": "2023-05-24T16:47:34.516022Z",
     "iopub.status.idle": "2023-05-24T16:47:34.518229Z",
     "shell.execute_reply": "2023-05-24T16:47:34.517995Z"
    }
   },
   "outputs": [
    {
     "name": "stdout",
     "output_type": "stream",
     "text": [
      "[[1. 1. 1.]\n",
      " [1. 1. 1.]]\n",
      "[[0. 0.]\n",
      " [0. 0.]]\n",
      "[[1. 1. 1. 0. 0. 1. 1. 1.]\n",
      " [1. 1. 1. 0. 0. 1. 1. 1.]]\n",
      "(2, 8)\n"
     ]
    }
   ],
   "source": [
    "x = np.ones((2, 3))\n",
    "y = np.zeros((2, 2))\n",
    "z = np.hstack((x, y, x))  # note, arrays passed as a tuple\n",
    "print(x)\n",
    "print(y)\n",
    "print(z)\n",
    "print(z.shape)"
   ]
  },
  {
   "cell_type": "code",
   "execution_count": 50,
   "id": "3372a728",
   "metadata": {
    "execution": {
     "iopub.execute_input": "2023-05-24T16:47:34.519541Z",
     "iopub.status.busy": "2023-05-24T16:47:34.519463Z",
     "iopub.status.idle": "2023-05-24T16:47:34.521497Z",
     "shell.execute_reply": "2023-05-24T16:47:34.521253Z"
    }
   },
   "outputs": [
    {
     "name": "stdout",
     "output_type": "stream",
     "text": [
      "[[1. 1.]\n",
      " [1. 1.]\n",
      " [0. 0.]]\n",
      "(3, 2)\n"
     ]
    }
   ],
   "source": [
    "x = np.ones((2, 2))\n",
    "y = np.zeros((1, 2))\n",
    "z = np.vstack((x, y))\n",
    "print(z)\n",
    "print(z.shape)"
   ]
  },
  {
   "cell_type": "markdown",
   "id": "e868d431",
   "metadata": {},
   "source": [
    "### 5.4 Tiling and repeating"
   ]
  },
  {
   "cell_type": "code",
   "execution_count": 51,
   "id": "47abecf4",
   "metadata": {
    "execution": {
     "iopub.execute_input": "2023-05-24T16:47:34.522844Z",
     "iopub.status.busy": "2023-05-24T16:47:34.522771Z",
     "iopub.status.idle": "2023-05-24T16:47:34.524306Z",
     "shell.execute_reply": "2023-05-24T16:47:34.524069Z"
    }
   },
   "outputs": [],
   "source": [
    "x = np.array([[1, 2], [3, 4]])"
   ]
  },
  {
   "cell_type": "code",
   "execution_count": 52,
   "id": "21f9ce38",
   "metadata": {
    "execution": {
     "iopub.execute_input": "2023-05-24T16:47:34.525586Z",
     "iopub.status.busy": "2023-05-24T16:47:34.525509Z",
     "iopub.status.idle": "2023-05-24T16:47:34.527276Z",
     "shell.execute_reply": "2023-05-24T16:47:34.527062Z"
    }
   },
   "outputs": [
    {
     "name": "stdout",
     "output_type": "stream",
     "text": [
      "[[1 2 1 2 1 2]\n",
      " [3 4 3 4 3 4]]\n"
     ]
    }
   ],
   "source": [
    "y = np.tile(x, 3)\n",
    "print(y)"
   ]
  },
  {
   "cell_type": "code",
   "execution_count": 53,
   "id": "2a62466e",
   "metadata": {
    "execution": {
     "iopub.execute_input": "2023-05-24T16:47:34.528684Z",
     "iopub.status.busy": "2023-05-24T16:47:34.528608Z",
     "iopub.status.idle": "2023-05-24T16:47:34.530426Z",
     "shell.execute_reply": "2023-05-24T16:47:34.530188Z"
    }
   },
   "outputs": [
    {
     "name": "stdout",
     "output_type": "stream",
     "text": [
      "[[1 2 1 2 1 2 1 2]\n",
      " [3 4 3 4 3 4 3 4]\n",
      " [1 2 1 2 1 2 1 2]\n",
      " [3 4 3 4 3 4 3 4]]\n"
     ]
    }
   ],
   "source": [
    "y = np.tile(x, (2, 4))\n",
    "print(y)"
   ]
  },
  {
   "cell_type": "code",
   "execution_count": 54,
   "id": "ead987d0",
   "metadata": {
    "execution": {
     "iopub.execute_input": "2023-05-24T16:47:34.531841Z",
     "iopub.status.busy": "2023-05-24T16:47:34.531760Z",
     "iopub.status.idle": "2023-05-24T16:47:34.533486Z",
     "shell.execute_reply": "2023-05-24T16:47:34.533254Z"
    }
   },
   "outputs": [
    {
     "name": "stdout",
     "output_type": "stream",
     "text": [
      "[1 1 1 1 2 2 2 2 3 3 3 3 4 4 4 4]\n"
     ]
    }
   ],
   "source": [
    "y = np.repeat(x, 4)\n",
    "print(y)"
   ]
  },
  {
   "cell_type": "code",
   "execution_count": 55,
   "id": "8c128c09",
   "metadata": {
    "execution": {
     "iopub.execute_input": "2023-05-24T16:47:34.534780Z",
     "iopub.status.busy": "2023-05-24T16:47:34.534704Z",
     "iopub.status.idle": "2023-05-24T16:47:34.536361Z",
     "shell.execute_reply": "2023-05-24T16:47:34.536098Z"
    }
   },
   "outputs": [
    {
     "name": "stdout",
     "output_type": "stream",
     "text": [
      "[[1 2]\n",
      " [1 2]\n",
      " [1 2]\n",
      " [1 2]\n",
      " [3 4]\n",
      " [3 4]\n",
      " [3 4]\n",
      " [3 4]]\n"
     ]
    }
   ],
   "source": [
    "y = np.repeat(x, 4, axis=0)\n",
    "print(y)"
   ]
  },
  {
   "cell_type": "markdown",
   "id": "cbae2977",
   "metadata": {},
   "source": [
    "## 6 Copying\n",
    "\n",
    "### 6.1 Shallow copy\n",
    "\n",
    "Arrays are handled by reference.\n",
    "\n",
    "When you do `A = B` you are just copying a reference, not the data itself."
   ]
  },
  {
   "cell_type": "code",
   "execution_count": 56,
   "id": "fcfe24d0",
   "metadata": {
    "execution": {
     "iopub.execute_input": "2023-05-24T16:47:34.537756Z",
     "iopub.status.busy": "2023-05-24T16:47:34.537681Z",
     "iopub.status.idle": "2023-05-24T16:47:34.539398Z",
     "shell.execute_reply": "2023-05-24T16:47:34.539149Z"
    }
   },
   "outputs": [
    {
     "name": "stdout",
     "output_type": "stream",
     "text": [
      "[10  2  3  4  5  6]\n"
     ]
    }
   ],
   "source": [
    "A = np.array([1, 2, 3, 4, 5, 6])\n",
    "B = A\n",
    "B[0] = 10\n",
    "print(A)"
   ]
  },
  {
   "cell_type": "markdown",
   "id": "4a52d3a8",
   "metadata": {},
   "source": [
    "Note, this is also true for Python lists and objects"
   ]
  },
  {
   "cell_type": "code",
   "execution_count": 57,
   "id": "7ef3969f",
   "metadata": {
    "execution": {
     "iopub.execute_input": "2023-05-24T16:47:34.540811Z",
     "iopub.status.busy": "2023-05-24T16:47:34.540735Z",
     "iopub.status.idle": "2023-05-24T16:47:34.542499Z",
     "shell.execute_reply": "2023-05-24T16:47:34.542257Z"
    }
   },
   "outputs": [
    {
     "name": "stdout",
     "output_type": "stream",
     "text": [
      "[10, 2, 3, 4, 5, 6]\n"
     ]
    }
   ],
   "source": [
    "A = [1, 2, 3, 4, 5, 6]\n",
    "B = A\n",
    "B[0] = 10\n",
    "print(A)"
   ]
  },
  {
   "cell_type": "markdown",
   "id": "ed492881",
   "metadata": {},
   "source": [
    "So how do we make a real copy?\n",
    "\n",
    "### 6.2 Deep Copy\n",
    "\n",
    "To actually copy the data stored in the array we use the NumPy copy method,"
   ]
  },
  {
   "cell_type": "code",
   "execution_count": 58,
   "id": "d8c9abe2",
   "metadata": {
    "execution": {
     "iopub.execute_input": "2023-05-24T16:47:34.543919Z",
     "iopub.status.busy": "2023-05-24T16:47:34.543844Z",
     "iopub.status.idle": "2023-05-24T16:47:34.545803Z",
     "shell.execute_reply": "2023-05-24T16:47:34.545548Z"
    }
   },
   "outputs": [
    {
     "name": "stdout",
     "output_type": "stream",
     "text": [
      "[1 2 3 4 5 6]\n"
     ]
    }
   ],
   "source": [
    "A = np.array([1, 2, 3, 4, 5, 6])\n",
    "B = A.copy()  # can also write, B = np.copy(A)\n",
    "B[0] = 10\n",
    "print(A)"
   ]
  },
  {
   "cell_type": "markdown",
   "id": "1458dde1",
   "metadata": {},
   "source": [
    "Note, to copy Python *lists*, we first need to import the copy module,"
   ]
  },
  {
   "cell_type": "code",
   "execution_count": 59,
   "id": "9337d430",
   "metadata": {
    "execution": {
     "iopub.execute_input": "2023-05-24T16:47:34.547196Z",
     "iopub.status.busy": "2023-05-24T16:47:34.547119Z",
     "iopub.status.idle": "2023-05-24T16:47:34.548867Z",
     "shell.execute_reply": "2023-05-24T16:47:34.548622Z"
    }
   },
   "outputs": [
    {
     "name": "stdout",
     "output_type": "stream",
     "text": [
      "[1, 2, 3, 4, 5, 6]\n"
     ]
    }
   ],
   "source": [
    "import copy\n",
    "\n",
    "A = [1, 2, 3, 4, 5, 6]\n",
    "B = copy.deepcopy(A)\n",
    "print(B)"
   ]
  },
  {
   "cell_type": "markdown",
   "id": "9f8b7b24",
   "metadata": {},
   "source": [
    "(Don't confuse NumPy ndarrays and Python lists...)\n",
    "\n",
    "## 7 Matrix operations\n",
    "\n",
    "NumPy implements all common array operations,\n",
    "\n",
    "* addition, subtraction,\n",
    "* transpose\n",
    "* multiplication,\n",
    "* inverse\n",
    "\n",
    "### 7.1 Array addition and subtraction"
   ]
  },
  {
   "cell_type": "code",
   "execution_count": 60,
   "id": "3280d703",
   "metadata": {
    "execution": {
     "iopub.execute_input": "2023-05-24T16:47:34.550236Z",
     "iopub.status.busy": "2023-05-24T16:47:34.550160Z",
     "iopub.status.idle": "2023-05-24T16:47:34.551742Z",
     "shell.execute_reply": "2023-05-24T16:47:34.551505Z"
    }
   },
   "outputs": [],
   "source": [
    "X = np.array([[1, 2, 3], [4, 5, 6]])\n",
    "Y = np.ones((2, 3))"
   ]
  },
  {
   "cell_type": "code",
   "execution_count": 61,
   "id": "468bb008",
   "metadata": {
    "execution": {
     "iopub.execute_input": "2023-05-24T16:47:34.553086Z",
     "iopub.status.busy": "2023-05-24T16:47:34.553014Z",
     "iopub.status.idle": "2023-05-24T16:47:34.554763Z",
     "shell.execute_reply": "2023-05-24T16:47:34.554515Z"
    }
   },
   "outputs": [
    {
     "name": "stdout",
     "output_type": "stream",
     "text": [
      "[[1 2 3]\n",
      " [4 5 6]]\n",
      "[[1. 1. 1.]\n",
      " [1. 1. 1.]]\n"
     ]
    }
   ],
   "source": [
    "print(X)\n",
    "print(Y)"
   ]
  },
  {
   "cell_type": "code",
   "execution_count": 62,
   "id": "04dd2607",
   "metadata": {
    "execution": {
     "iopub.execute_input": "2023-05-24T16:47:34.556071Z",
     "iopub.status.busy": "2023-05-24T16:47:34.555997Z",
     "iopub.status.idle": "2023-05-24T16:47:34.557754Z",
     "shell.execute_reply": "2023-05-24T16:47:34.557533Z"
    }
   },
   "outputs": [
    {
     "name": "stdout",
     "output_type": "stream",
     "text": [
      "[[2. 3. 4.]\n",
      " [5. 6. 7.]]\n"
     ]
    }
   ],
   "source": [
    "print(X + Y)"
   ]
  },
  {
   "cell_type": "code",
   "execution_count": 63,
   "id": "1f58500f",
   "metadata": {
    "execution": {
     "iopub.execute_input": "2023-05-24T16:47:34.559033Z",
     "iopub.status.busy": "2023-05-24T16:47:34.558937Z",
     "iopub.status.idle": "2023-05-24T16:47:34.560671Z",
     "shell.execute_reply": "2023-05-24T16:47:34.560439Z"
    }
   },
   "outputs": [
    {
     "name": "stdout",
     "output_type": "stream",
     "text": [
      "[[-1.  0.  1.]\n",
      " [ 2.  3.  4.]]\n"
     ]
    }
   ],
   "source": [
    "Z = X - 2 * Y  # note, scalar multiplication\n",
    "print(Z)"
   ]
  },
  {
   "cell_type": "code",
   "execution_count": 64,
   "id": "3bd03121",
   "metadata": {
    "execution": {
     "iopub.execute_input": "2023-05-24T16:47:34.562041Z",
     "iopub.status.busy": "2023-05-24T16:47:34.561948Z",
     "iopub.status.idle": "2023-05-24T16:47:34.569930Z",
     "shell.execute_reply": "2023-05-24T16:47:34.569694Z"
    },
    "tags": [
     "raises-exception"
    ]
   },
   "outputs": [
    {
     "ename": "ValueError",
     "evalue": "operands could not be broadcast together with shapes (2,3) (2,2) ",
     "output_type": "error",
     "traceback": [
      "\u001b[0;31m---------------------------------------------------------------------------\u001b[0m",
      "\u001b[0;31mValueError\u001b[0m                                Traceback (most recent call last)",
      "Cell \u001b[0;32mIn[64], line 1\u001b[0m\n\u001b[0;32m----> 1\u001b[0m Z \u001b[38;5;241m=\u001b[39m \u001b[43mX\u001b[49m\u001b[43m \u001b[49m\u001b[38;5;241;43m+\u001b[39;49m\u001b[43m \u001b[49m\u001b[43mnp\u001b[49m\u001b[38;5;241;43m.\u001b[39;49m\u001b[43marray\u001b[49m\u001b[43m(\u001b[49m\u001b[43m[\u001b[49m\u001b[43m[\u001b[49m\u001b[38;5;241;43m2\u001b[39;49m\u001b[43m,\u001b[49m\u001b[43m \u001b[49m\u001b[38;5;241;43m2\u001b[39;49m\u001b[43m]\u001b[49m\u001b[43m,\u001b[49m\u001b[43m \u001b[49m\u001b[43m[\u001b[49m\u001b[38;5;241;43m2\u001b[39;49m\u001b[43m,\u001b[49m\u001b[43m \u001b[49m\u001b[38;5;241;43m2\u001b[39;49m\u001b[43m]\u001b[49m\u001b[43m]\u001b[49m\u001b[43m)\u001b[49m\n\u001b[1;32m      2\u001b[0m \u001b[38;5;28mprint\u001b[39m(Z)\n",
      "\u001b[0;31mValueError\u001b[0m: operands could not be broadcast together with shapes (2,3) (2,2) "
     ]
    }
   ],
   "source": [
    "Z = X + np.array([[2, 2], [2, 2]])\n",
    "print(Z)"
   ]
  },
  {
   "cell_type": "markdown",
   "id": "d5f47503",
   "metadata": {},
   "source": [
    "### 7.2 Broadcasting\n",
    "\n",
    "During operation NumPy will try to repeat an array to make dimensions fit. This is called 'broadcasting'. It's convenient but it can be confusing."
   ]
  },
  {
   "cell_type": "code",
   "execution_count": 65,
   "id": "a32b5495",
   "metadata": {
    "execution": {
     "iopub.execute_input": "2023-05-24T16:47:34.571364Z",
     "iopub.status.busy": "2023-05-24T16:47:34.571284Z",
     "iopub.status.idle": "2023-05-24T16:47:34.573136Z",
     "shell.execute_reply": "2023-05-24T16:47:34.572905Z"
    }
   },
   "outputs": [],
   "source": [
    "X = np.array([[1, 2, 3], [4, 5, 6]])\n",
    "row = np.array([1, 1, 1])"
   ]
  },
  {
   "cell_type": "code",
   "execution_count": 66,
   "id": "19247c43",
   "metadata": {
    "execution": {
     "iopub.execute_input": "2023-05-24T16:47:34.574469Z",
     "iopub.status.busy": "2023-05-24T16:47:34.574392Z",
     "iopub.status.idle": "2023-05-24T16:47:34.576079Z",
     "shell.execute_reply": "2023-05-24T16:47:34.575856Z"
    }
   },
   "outputs": [
    {
     "name": "stdout",
     "output_type": "stream",
     "text": [
      "[[1 2 3]\n",
      " [4 5 6]]\n",
      "[1 1 1]\n"
     ]
    }
   ],
   "source": [
    "print(X)\n",
    "print(row)"
   ]
  },
  {
   "cell_type": "code",
   "execution_count": 67,
   "id": "6b6caee7",
   "metadata": {
    "execution": {
     "iopub.execute_input": "2023-05-24T16:47:34.577355Z",
     "iopub.status.busy": "2023-05-24T16:47:34.577283Z",
     "iopub.status.idle": "2023-05-24T16:47:34.579061Z",
     "shell.execute_reply": "2023-05-24T16:47:34.578817Z"
    }
   },
   "outputs": [
    {
     "name": "stdout",
     "output_type": "stream",
     "text": [
      "[[2 3 4]\n",
      " [5 6 7]]\n"
     ]
    }
   ],
   "source": [
    "print(X + row)"
   ]
  },
  {
   "cell_type": "code",
   "execution_count": 68,
   "id": "d9df9e2c",
   "metadata": {
    "execution": {
     "iopub.execute_input": "2023-05-24T16:47:34.580351Z",
     "iopub.status.busy": "2023-05-24T16:47:34.580272Z",
     "iopub.status.idle": "2023-05-24T16:47:34.582339Z",
     "shell.execute_reply": "2023-05-24T16:47:34.582090Z"
    }
   },
   "outputs": [
    {
     "name": "stdout",
     "output_type": "stream",
     "text": [
      "[1 2]\n",
      "[[2 3 4]\n",
      " [6 7 8]]\n"
     ]
    }
   ],
   "source": [
    "col = np.array([1, 2])\n",
    "print(col)\n",
    "print(X + col[:, np.newaxis])"
   ]
  },
  {
   "cell_type": "markdown",
   "id": "e2b0288e",
   "metadata": {},
   "source": [
    "### 7.3 Transpose\n",
    "\n",
    "Transposing a matrix swaps the rows and columns."
   ]
  },
  {
   "cell_type": "code",
   "execution_count": 69,
   "id": "d17c19ea",
   "metadata": {
    "execution": {
     "iopub.execute_input": "2023-05-24T16:47:34.583768Z",
     "iopub.status.busy": "2023-05-24T16:47:34.583693Z",
     "iopub.status.idle": "2023-05-24T16:47:34.585631Z",
     "shell.execute_reply": "2023-05-24T16:47:34.585397Z"
    }
   },
   "outputs": [
    {
     "name": "stdout",
     "output_type": "stream",
     "text": [
      "[[1 2 3]\n",
      " [4 5 6]]\n",
      "[[1 4]\n",
      " [2 5]\n",
      " [3 6]]\n"
     ]
    }
   ],
   "source": [
    "A = np.array([[1, 2, 3], [4, 5, 6]])\n",
    "print(A)\n",
    "print(A.T)"
   ]
  },
  {
   "cell_type": "code",
   "execution_count": 70,
   "id": "9c741097",
   "metadata": {
    "execution": {
     "iopub.execute_input": "2023-05-24T16:47:34.587008Z",
     "iopub.status.busy": "2023-05-24T16:47:34.586933Z",
     "iopub.status.idle": "2023-05-24T16:47:34.588815Z",
     "shell.execute_reply": "2023-05-24T16:47:34.588583Z"
    }
   },
   "outputs": [
    {
     "name": "stdout",
     "output_type": "stream",
     "text": [
      "(2, 3)\n",
      "(3, 2)\n"
     ]
    }
   ],
   "source": [
    "A = np.array([[1, 2, 3], [4, 5, 6]])\n",
    "print(A.shape)\n",
    "print(A.T.shape)"
   ]
  },
  {
   "cell_type": "code",
   "execution_count": 71,
   "id": "67078da3",
   "metadata": {
    "execution": {
     "iopub.execute_input": "2023-05-24T16:47:34.590160Z",
     "iopub.status.busy": "2023-05-24T16:47:34.590088Z",
     "iopub.status.idle": "2023-05-24T16:47:34.591991Z",
     "shell.execute_reply": "2023-05-24T16:47:34.591735Z"
    }
   },
   "outputs": [
    {
     "name": "stdout",
     "output_type": "stream",
     "text": [
      "[1 2 3 4 5]\n",
      "[1 2 3 4 5]\n"
     ]
    }
   ],
   "source": [
    "v = np.array([1, 2, 3, 4, 5])\n",
    "print(v)\n",
    "print(v.T)  # Vectors only have one dimension. Transpose does nothing."
   ]
  },
  {
   "cell_type": "code",
   "execution_count": 72,
   "id": "cae6f493",
   "metadata": {
    "execution": {
     "iopub.execute_input": "2023-05-24T16:47:34.593371Z",
     "iopub.status.busy": "2023-05-24T16:47:34.593295Z",
     "iopub.status.idle": "2023-05-24T16:47:34.595137Z",
     "shell.execute_reply": "2023-05-24T16:47:34.594898Z"
    }
   },
   "outputs": [
    {
     "name": "stdout",
     "output_type": "stream",
     "text": [
      "(5,)\n",
      "(5,)\n"
     ]
    }
   ],
   "source": [
    "v = np.array([1, 2, 3, 4, 5])\n",
    "print(v.shape)\n",
    "print(v.T.shape)"
   ]
  },
  {
   "cell_type": "markdown",
   "id": "dffb7108",
   "metadata": {},
   "source": [
    "### 7.4 A note on vectors versus `skinny' matrices\n",
    "\n",
    "When using NumPy, a vector is **not** the same as a matrix with one column."
   ]
  },
  {
   "cell_type": "code",
   "execution_count": 73,
   "id": "0b614184",
   "metadata": {
    "execution": {
     "iopub.execute_input": "2023-05-24T16:47:34.596463Z",
     "iopub.status.busy": "2023-05-24T16:47:34.596385Z",
     "iopub.status.idle": "2023-05-24T16:47:34.598353Z",
     "shell.execute_reply": "2023-05-24T16:47:34.598111Z"
    }
   },
   "outputs": [
    {
     "name": "stdout",
     "output_type": "stream",
     "text": [
      "[1 2 3 4 5]\n",
      "[1 2 3 4 5]\n",
      "(5,)\n"
     ]
    }
   ],
   "source": [
    "v = np.array([1, 2, 3, 4, 5])  # A vector - has 1 dimension\n",
    "print(v)\n",
    "print(v.T)\n",
    "print(v.shape)"
   ]
  },
  {
   "cell_type": "code",
   "execution_count": 74,
   "id": "2f711603",
   "metadata": {
    "execution": {
     "iopub.execute_input": "2023-05-24T16:47:34.599683Z",
     "iopub.status.busy": "2023-05-24T16:47:34.599608Z",
     "iopub.status.idle": "2023-05-24T16:47:34.601483Z",
     "shell.execute_reply": "2023-05-24T16:47:34.601266Z"
    }
   },
   "outputs": [
    {
     "name": "stdout",
     "output_type": "stream",
     "text": [
      "[[1 2 3 4 5]]\n",
      "(1, 5)\n"
     ]
    }
   ],
   "source": [
    "M_row = np.array([[1, 2, 3, 4, 5]])  # A matrix - has 2 dimensions\n",
    "print(M_row)\n",
    "print(M_row.shape)"
   ]
  },
  {
   "cell_type": "code",
   "execution_count": 75,
   "id": "a49e071e",
   "metadata": {
    "execution": {
     "iopub.execute_input": "2023-05-24T16:47:34.602811Z",
     "iopub.status.busy": "2023-05-24T16:47:34.602734Z",
     "iopub.status.idle": "2023-05-24T16:47:34.604622Z",
     "shell.execute_reply": "2023-05-24T16:47:34.604378Z"
    }
   },
   "outputs": [
    {
     "name": "stdout",
     "output_type": "stream",
     "text": [
      "[[1]\n",
      " [2]\n",
      " [3]\n",
      " [4]\n",
      " [5]]\n",
      "(5, 1)\n"
     ]
    }
   ],
   "source": [
    "M_col = np.array([[1, 2, 3, 4, 5]]).T  # A matrix can be transposed\n",
    "print(M_col)\n",
    "print(M_col.shape)"
   ]
  },
  {
   "cell_type": "markdown",
   "id": "2fd57642",
   "metadata": {},
   "source": [
    "### 7.5  Multiplication\n",
    "\n",
    "The '*' operator performs 'elementwise' multiplication"
   ]
  },
  {
   "cell_type": "code",
   "execution_count": 76,
   "id": "e552051e",
   "metadata": {
    "execution": {
     "iopub.execute_input": "2023-05-24T16:47:34.605980Z",
     "iopub.status.busy": "2023-05-24T16:47:34.605905Z",
     "iopub.status.idle": "2023-05-24T16:47:34.607587Z",
     "shell.execute_reply": "2023-05-24T16:47:34.607366Z"
    }
   },
   "outputs": [],
   "source": [
    "A = np.array([[1, 2, 3], [4, 5, 6]])"
   ]
  },
  {
   "cell_type": "code",
   "execution_count": 77,
   "id": "cf868add",
   "metadata": {
    "execution": {
     "iopub.execute_input": "2023-05-24T16:47:34.609114Z",
     "iopub.status.busy": "2023-05-24T16:47:34.609025Z",
     "iopub.status.idle": "2023-05-24T16:47:34.610743Z",
     "shell.execute_reply": "2023-05-24T16:47:34.610500Z"
    }
   },
   "outputs": [
    {
     "name": "stdout",
     "output_type": "stream",
     "text": [
      "[[ 1  4  9]\n",
      " [16 25 36]]\n"
     ]
    }
   ],
   "source": [
    "X = A * A\n",
    "print(X)"
   ]
  },
  {
   "cell_type": "markdown",
   "id": "fc87ddd1",
   "metadata": {},
   "source": [
    "Standard 'matrix multiplication' is performed using the `dot` function"
   ]
  },
  {
   "cell_type": "code",
   "execution_count": 78,
   "id": "d32320ad",
   "metadata": {
    "execution": {
     "iopub.execute_input": "2023-05-24T16:47:34.612135Z",
     "iopub.status.busy": "2023-05-24T16:47:34.612055Z",
     "iopub.status.idle": "2023-05-24T16:47:34.613954Z",
     "shell.execute_reply": "2023-05-24T16:47:34.613696Z"
    }
   },
   "outputs": [
    {
     "name": "stdout",
     "output_type": "stream",
     "text": [
      "[[14 32]\n",
      " [32 77]]\n"
     ]
    }
   ],
   "source": [
    "X = np.dot(A, A.T)  # Multipy 2x3 matrix A and 3x2 matrix A.T (AA')\n",
    "print(X)"
   ]
  },
  {
   "cell_type": "code",
   "execution_count": 79,
   "id": "a2296809",
   "metadata": {
    "execution": {
     "iopub.execute_input": "2023-05-24T16:47:34.615317Z",
     "iopub.status.busy": "2023-05-24T16:47:34.615233Z",
     "iopub.status.idle": "2023-05-24T16:47:34.617571Z",
     "shell.execute_reply": "2023-05-24T16:47:34.617216Z"
    }
   },
   "outputs": [
    {
     "name": "stdout",
     "output_type": "stream",
     "text": [
      "[14 32]\n"
     ]
    }
   ],
   "source": [
    "v = np.array([1, 2, 3])\n",
    "x = np.dot(A, v)  # Multiply 2x3 matrix A and 3-element vector (Av)\n",
    "print(x)"
   ]
  },
  {
   "cell_type": "markdown",
   "id": "ad1180b1",
   "metadata": {},
   "source": [
    "### 7.6 Matrix inverse\n",
    "\n",
    "Matrix determinant and inverse function are provided by the `linalg` submodule of NumPy."
   ]
  },
  {
   "cell_type": "code",
   "execution_count": 80,
   "id": "c56feb21",
   "metadata": {
    "execution": {
     "iopub.execute_input": "2023-05-24T16:47:34.619892Z",
     "iopub.status.busy": "2023-05-24T16:47:34.619753Z",
     "iopub.status.idle": "2023-05-24T16:47:34.621885Z",
     "shell.execute_reply": "2023-05-24T16:47:34.621391Z"
    }
   },
   "outputs": [],
   "source": [
    "A = np.array([[2, 1], [3, 2]])"
   ]
  },
  {
   "cell_type": "code",
   "execution_count": 81,
   "id": "a2dc36cd",
   "metadata": {
    "execution": {
     "iopub.execute_input": "2023-05-24T16:47:34.624288Z",
     "iopub.status.busy": "2023-05-24T16:47:34.624123Z",
     "iopub.status.idle": "2023-05-24T16:47:34.626213Z",
     "shell.execute_reply": "2023-05-24T16:47:34.625931Z"
    }
   },
   "outputs": [
    {
     "name": "stdout",
     "output_type": "stream",
     "text": [
      "[[2 1]\n",
      " [3 2]]\n"
     ]
    }
   ],
   "source": [
    "print(A)"
   ]
  },
  {
   "cell_type": "code",
   "execution_count": 82,
   "id": "8635a3aa",
   "metadata": {
    "execution": {
     "iopub.execute_input": "2023-05-24T16:47:34.628202Z",
     "iopub.status.busy": "2023-05-24T16:47:34.628047Z",
     "iopub.status.idle": "2023-05-24T16:47:34.630069Z",
     "shell.execute_reply": "2023-05-24T16:47:34.629813Z"
    }
   },
   "outputs": [
    {
     "name": "stdout",
     "output_type": "stream",
     "text": [
      "0.9999999999999998\n"
     ]
    }
   ],
   "source": [
    "det_A = np.linalg.det(A)\n",
    "print(det_A)"
   ]
  },
  {
   "cell_type": "code",
   "execution_count": 83,
   "id": "033f0757",
   "metadata": {
    "execution": {
     "iopub.execute_input": "2023-05-24T16:47:34.631607Z",
     "iopub.status.busy": "2023-05-24T16:47:34.631469Z",
     "iopub.status.idle": "2023-05-24T16:47:34.636385Z",
     "shell.execute_reply": "2023-05-24T16:47:34.634719Z"
    }
   },
   "outputs": [
    {
     "name": "stdout",
     "output_type": "stream",
     "text": [
      "[[ 2. -1.]\n",
      " [-3.  2.]]\n"
     ]
    }
   ],
   "source": [
    "inv_A = np.linalg.inv(A)\n",
    "print(inv_A)"
   ]
  },
  {
   "cell_type": "markdown",
   "id": "4530268d",
   "metadata": {},
   "source": [
    "## 8 Summary\n",
    "\n",
    "* NumPy provides tools for numeric computing.\n",
    "* With NumPy, Python becomes a usable alternative to MATLAB.\n",
    "* NumPy's basic type is the `ndarray` -- it can represent vectors, matrices, etc.\n",
    "* Lots of tools for vector and matrix manipulation.\n",
    "  * This lecture has only reviewed the most commonly used.\n",
    "* For the full documentation see [http://docs.scipy.org/doc/numpy/](http://docs.scipy.org/doc/numpy/)"
   ]
  }
 ],
 "metadata": {
  "jupytext": {
   "cell_metadata_filter": "-all"
  },
  "kernelspec": {
   "display_name": "Python 3 (ipykernel)",
   "language": "python",
   "name": "python3"
  },
  "language_info": {
   "codemirror_mode": {
    "name": "ipython",
    "version": 3
   },
   "file_extension": ".py",
   "mimetype": "text/x-python",
   "name": "python",
   "nbconvert_exporter": "python",
   "pygments_lexer": "ipython3",
   "version": "3.11.5"
  }
 },
 "nbformat": 4,
 "nbformat_minor": 5
}
