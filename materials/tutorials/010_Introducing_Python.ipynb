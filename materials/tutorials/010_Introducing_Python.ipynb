{
 "cells": [
  {
   "attachments": {},
   "cell_type": "markdown",
   "id": "ea72bbec",
   "metadata": {},
   "source": [
    "# 010 Getting Started with Python\n",
    "\n",
    "> COM6018\n",
    "\n",
    "*Copyright &copy; 2023 Jon Barker, University of Sheffield. All rights reserved*.\n",
    "\n",
    "## 1. Introduction\n",
    "\n",
    "### What is Python ?\n",
    "\n",
    "A modern, object-orientated, high-level programming language\n",
    "\n",
    "* **Easy-to-learn**: simple syntax and intuitive code\n",
    "* **Expressive**: can do a lot with a few lines of code\n",
    "* **Interpreted**: no need to compile\n",
    "* **Dynamically typed**: no need to define the types of variables\n",
    "* **Memory managed**: no c-style 'memory leak' bugs\n",
    "\n",
    "### Why Python ?\n",
    "\n",
    "Why are we using Python in COM6018?\n",
    "\n",
    "* Python is **widely used** in the scientific computing community\n",
    "* Extensive ecosystem of rapidly maturing **libraries**\n",
    "* **Good performance** - closely integrated with time-tested C and Fortran code\n",
    "  * blas, atlas, lapack etc\n",
    "* No license costs (i.e., **free**!) and easy to install\n",
    "* It's a **useful** language to know, i.e. useful outside of COM6018\n",
    "\n",
    "## 2. Running Python code\n",
    "\n",
    "There are many ways to run Python code including running scripts from the command line, using **Jupyter notebooks** (which we will be using in the labs), or working interactively in a Python shell (e.g. `ipython`).\n",
    "\n",
    "### 2.1 Using the iPython interactive shell\n",
    "\n",
    "If you are reading these notes at a computer then the easiest way to try out the examples is to cut and paste them into a Python shell.\n",
    "\n",
    "To start a Python shell, open a terminal and type `python` or `ipython` (if installed)."
   ]
  },
  {
   "cell_type": "code",
   "execution_count": null,
   "id": "203ee018",
   "metadata": {
    "execution": {
     "iopub.execute_input": "2023-05-24T18:05:14.755492Z",
     "iopub.status.busy": "2023-05-24T18:05:14.755372Z",
     "iopub.status.idle": "2023-05-24T18:05:14.967688Z",
     "shell.execute_reply": "2023-05-24T18:05:14.967330Z"
    },
    "tags": [
     "remove-output"
    ]
   },
   "outputs": [],
   "source": [
    "%%bash\n",
    "ipython"
   ]
  },
  {
   "attachments": {},
   "cell_type": "markdown",
   "id": "840bb5d0",
   "metadata": {},
   "source": [
    "The **IPython shell** is an enhanced version of the standard Python shell with many useful features including tab completion, command history, and object introspection.\n",
    "\n",
    "If you are viewing these notes in a web-browser there will be a button in each code block that copies the contents to the clipboard when clicked. You can then paste the code into your Python or IPython shell. Try this with the Python code block below."
   ]
  },
  {
   "cell_type": "code",
   "execution_count": null,
   "id": "7a0579d1",
   "metadata": {
    "execution": {
     "iopub.execute_input": "2023-05-24T16:47:29.005941Z",
     "iopub.status.busy": "2023-05-24T16:47:29.005848Z",
     "iopub.status.idle": "2023-05-24T16:47:29.007702Z",
     "shell.execute_reply": "2023-05-24T16:47:29.007440Z"
    }
   },
   "outputs": [],
   "source": [
    "print('Hello world!')"
   ]
  },
  {
   "attachments": {},
   "cell_type": "markdown",
   "id": "53989cdd",
   "metadata": {},
   "source": [
    "If you are reading these notes in the **VSCode editor** (the free editor that we are recommending for the module) then you can install the **Markdown Preview Enhanced** editor extension and run the `Open Preview` command. Now, if you hover over a cell, a button will appear that allows you to run the contents directly with the output appearing below the code block.\n",
    "\n",
    "### 2.2 Running Python scripts\n",
    "\n",
    "For longer programs, Python code is usually stored in a file and run from the\n",
    "command line. Programs are stored in files with a .py extension.\n",
    "\n",
    "For example, a program to print `Hello world!` could be stored in a file `hello.py`\n",
    "with the following contents"
   ]
  },
  {
   "cell_type": "code",
   "execution_count": null,
   "id": "565a5c53",
   "metadata": {
    "execution": {
     "iopub.execute_input": "2023-05-24T16:47:29.009227Z",
     "iopub.status.busy": "2023-05-24T16:47:29.009120Z",
     "iopub.status.idle": "2023-05-24T16:47:29.010790Z",
     "shell.execute_reply": "2023-05-24T16:47:29.010541Z"
    }
   },
   "outputs": [],
   "source": [
    "# A program to print 'Hello world!'\n",
    "print('Hello world!')"
   ]
  },
  {
   "attachments": {},
   "cell_type": "markdown",
   "id": "88ffc12d",
   "metadata": {},
   "source": [
    "This program could then be run from the command line using"
   ]
  },
  {
   "cell_type": "code",
   "execution_count": null,
   "id": "5132766c",
   "metadata": {
    "execution": {
     "iopub.execute_input": "2023-05-24T18:05:14.975745Z",
     "iopub.status.busy": "2023-05-24T18:05:14.975650Z",
     "iopub.status.idle": "2023-05-24T18:05:14.996559Z",
     "shell.execute_reply": "2023-05-24T18:05:14.996230Z"
    },
    "tags": [
     "remove-output"
    ],
    "vscode": {
     "languageId": "shellscript"
    }
   },
   "outputs": [],
   "source": [
    "%%bash\n",
    "python code/hello_world.py"
   ]
  },
  {
   "attachments": {},
   "cell_type": "markdown",
   "id": "2dbfa452",
   "metadata": {},
   "source": [
    "### 2.3 Loading Modules\n",
    "\n",
    "When you write a Python program you rarely start from scratch. Instead you build on **library code** that others have already written. This code is organised into **modules**. Many of these modules come with the language and are part of the so-called **Python Standard Library**. Other modules are available from third-parties and can be installed using the `pip` package manager. In this course we will be using some very popular third-party modules which are industry-standard for data science,  including `numpy`, `scipy`, `matplotlib`, and `pandas`.\n",
    "\n",
    "When using code from a module, the module first needs to be imported. Once a module is imported it will define a **namespace** which contains all the module's functions and variables. To access these functions and variables you need to prefix them with the name of the module.\n",
    "\n",
    "For example, the `sqrt` (square-root) function is defined in the `math` module which\n",
    "is part of the Python Standard Library.\n",
    "\n",
    "In the example below, we use the keyword `import` to import the `math` module. We can then access the `sqrt` function using the syntax `math.sqrt`. We then use the Python builtin `print` function to print some result to the screen."
   ]
  },
  {
   "cell_type": "code",
   "execution_count": null,
   "id": "0b988a6f",
   "metadata": {
    "execution": {
     "iopub.execute_input": "2023-05-24T16:47:29.035910Z",
     "iopub.status.busy": "2023-05-24T16:47:29.035817Z",
     "iopub.status.idle": "2023-05-24T16:47:29.037830Z",
     "shell.execute_reply": "2023-05-24T16:47:29.037594Z"
    }
   },
   "outputs": [],
   "source": [
    "import math\n",
    "print(math.sqrt(12.0))\n",
    "print(math.sqrt(12.0))"
   ]
  },
  {
   "attachments": {},
   "cell_type": "markdown",
   "id": "4f8dc935",
   "metadata": {},
   "source": [
    "Once a module is imported you can get help about it by using the `help` function."
   ]
  },
  {
   "cell_type": "code",
   "execution_count": null,
   "id": "c60f66e1",
   "metadata": {
    "execution": {
     "iopub.execute_input": "2023-05-24T16:47:29.039279Z",
     "iopub.status.busy": "2023-05-24T16:47:29.039203Z",
     "iopub.status.idle": "2023-05-24T16:47:29.040757Z",
     "shell.execute_reply": "2023-05-24T16:47:29.040532Z"
    }
   },
   "outputs": [],
   "source": [
    "import math\n",
    "# help(math)"
   ]
  },
  {
   "attachments": {},
   "cell_type": "markdown",
   "id": "8bc504c3",
   "metadata": {},
   "source": [
    "You can also get help on a specific module function. For example to see help for the `sqrt` function we can use,"
   ]
  },
  {
   "cell_type": "code",
   "execution_count": null,
   "id": "10b8d0da",
   "metadata": {
    "execution": {
     "iopub.execute_input": "2023-05-24T16:47:29.042150Z",
     "iopub.status.busy": "2023-05-24T16:47:29.042070Z",
     "iopub.status.idle": "2023-05-24T16:47:29.044334Z",
     "shell.execute_reply": "2023-05-24T16:47:29.044091Z"
    }
   },
   "outputs": [],
   "source": [
    "import math\n",
    "help(math.sqrt)"
   ]
  },
  {
   "attachments": {},
   "cell_type": "markdown",
   "id": "7e31cda8",
   "metadata": {},
   "source": [
    "### 2.4 Importing specific functions\n",
    "\n",
    "Sometimes you only want to import a specific function from a module. This can be done as follows,"
   ]
  },
  {
   "cell_type": "code",
   "execution_count": null,
   "id": "ce1ffaea",
   "metadata": {
    "execution": {
     "iopub.execute_input": "2023-05-24T16:47:29.045793Z",
     "iopub.status.busy": "2023-05-24T16:47:29.045712Z",
     "iopub.status.idle": "2023-05-24T16:47:29.047567Z",
     "shell.execute_reply": "2023-05-24T16:47:29.047324Z"
    }
   },
   "outputs": [],
   "source": [
    "from math import cos   # import cos into the namespace\n",
    "x = cos(0.4)           # no need to write math.cos\n",
    "print(x)"
   ]
  },
  {
   "attachments": {},
   "cell_type": "markdown",
   "id": "13f0e972",
   "metadata": {},
   "source": [
    "Note, how in the example above we no longer need to prefix the function with the module name when we use it. This is because the `from X import Y` syntax imports the function `Y` directly into the current namespace.\n",
    "\n",
    "It is possible to import all the functions from a module into the current namespace by\n",
    "using the wildcard `*` syntax."
   ]
  },
  {
   "cell_type": "code",
   "execution_count": null,
   "id": "c97e2da1",
   "metadata": {
    "execution": {
     "iopub.execute_input": "2023-05-24T16:47:29.048942Z",
     "iopub.status.busy": "2023-05-24T16:47:29.048861Z",
     "iopub.status.idle": "2023-05-24T16:47:29.050587Z",
     "shell.execute_reply": "2023-05-24T16:47:29.050308Z"
    }
   },
   "outputs": [],
   "source": [
    "from math import *    # import all functions\n",
    "x = sqrt(4.0)\n",
    "print(x)"
   ]
  },
  {
   "attachments": {},
   "cell_type": "markdown",
   "id": "7c2ce44c",
   "metadata": {},
   "source": [
    ":fire: Importing like this may seem convenient, but it is not recommended. It can lead to **namespace clashes**, i.e., different modules might have used the same name for their own version of a function. If both are imported it can be difficult for the reader to know which function is the one being used.\n",
    "\n",
    "## 3 Variables and Types\n",
    "\n",
    "Variables are dynamically typed, i.e., in contrast to languages like Java or C there is no need to explicitly declare the type before the variable is used. For example, we can assign an integer value to a variable simply by writing,"
   ]
  },
  {
   "cell_type": "code",
   "execution_count": null,
   "id": "d2a27e7d",
   "metadata": {
    "execution": {
     "iopub.execute_input": "2023-05-24T16:47:29.052016Z",
     "iopub.status.busy": "2023-05-24T16:47:29.051941Z",
     "iopub.status.idle": "2023-05-24T16:47:29.053646Z",
     "shell.execute_reply": "2023-05-24T16:47:29.053413Z"
    }
   },
   "outputs": [],
   "source": [
    "a = 1\n",
    "print(type(a))"
   ]
  },
  {
   "cell_type": "markdown",
   "id": "98b1dd35",
   "metadata": {},
   "source": [
    "In the code above we use the `type` function to return and print the type of the variabe `a` and we see that it is an `int` (i.e., integer).\n",
    "\n",
    "Alternatively, if we write,"
   ]
  },
  {
   "cell_type": "code",
   "execution_count": null,
   "id": "1ace76fa",
   "metadata": {
    "execution": {
     "iopub.execute_input": "2023-05-24T16:47:29.055059Z",
     "iopub.status.busy": "2023-05-24T16:47:29.054982Z",
     "iopub.status.idle": "2023-05-24T16:47:29.056568Z",
     "shell.execute_reply": "2023-05-24T16:47:29.056324Z"
    }
   },
   "outputs": [],
   "source": [
    "b = 1.0\n",
    "print(type(b))"
   ]
  },
  {
   "cell_type": "markdown",
   "id": "d37fe393",
   "metadata": {},
   "source": [
    "then we will see that the returned tpye is `float` (i.e., floating point). The type has been inferred from the type of the *literal* value that we assigned to the variable. `1.0` is a float because it has a decimal point whereas `1` is an integer because it does not.\n",
    "\n",
    "Now let us see what happens if we assign a new value to a variable."
   ]
  },
  {
   "cell_type": "code",
   "execution_count": null,
   "id": "0f951fb7",
   "metadata": {
    "execution": {
     "iopub.execute_input": "2023-05-24T16:47:29.057944Z",
     "iopub.status.busy": "2023-05-24T16:47:29.057871Z",
     "iopub.status.idle": "2023-05-24T16:47:29.059706Z",
     "shell.execute_reply": "2023-05-24T16:47:29.059482Z"
    }
   },
   "outputs": [],
   "source": [
    "b = 1.0\n",
    "print('b is initially of type', type(b))\n",
    "a = 1\n",
    "b = a\n",
    "print('b is now of type', type(b))"
   ]
  },
  {
   "attachments": {},
   "cell_type": "markdown",
   "id": "b5e19731",
   "metadata": {},
   "source": [
    "Note how the type of the variable `b` has changed from `float` to `int` after we assigned it the value of `a`. This is what we mean by dynamic typing. A variable can change type during the execution of a program.\n",
    "\n",
    "### 3.1 Numeric types\n",
    "\n",
    "Variables are of type `int` (i.e., integer) if assigned a value without a decimal point"
   ]
  },
  {
   "cell_type": "code",
   "execution_count": null,
   "id": "8ef8774d",
   "metadata": {
    "execution": {
     "iopub.execute_input": "2023-05-24T16:47:29.061055Z",
     "iopub.status.busy": "2023-05-24T16:47:29.060973Z",
     "iopub.status.idle": "2023-05-24T16:47:29.062657Z",
     "shell.execute_reply": "2023-05-24T16:47:29.062426Z"
    }
   },
   "outputs": [],
   "source": [
    "x = 1\n",
    "print(type(x))"
   ]
  },
  {
   "attachments": {},
   "cell_type": "markdown",
   "id": "90eacb62",
   "metadata": {},
   "source": [
    "They are of type `float` (i.e., floating point) if assigned a value with a decimal point"
   ]
  },
  {
   "cell_type": "code",
   "execution_count": null,
   "id": "e9b27597",
   "metadata": {
    "execution": {
     "iopub.execute_input": "2023-05-24T16:47:29.063991Z",
     "iopub.status.busy": "2023-05-24T16:47:29.063919Z",
     "iopub.status.idle": "2023-05-24T16:47:29.065506Z",
     "shell.execute_reply": "2023-05-24T16:47:29.065257Z"
    }
   },
   "outputs": [],
   "source": [
    "x = 1.0\n",
    "y = 5.\n",
    "print(type(x), type(y))"
   ]
  },
  {
   "attachments": {},
   "cell_type": "markdown",
   "id": "11aa3cc2",
   "metadata": {},
   "source": [
    "They are of type `bool` (i.e., Boolean value) if assigned the value `True` or `False`"
   ]
  },
  {
   "cell_type": "code",
   "execution_count": null,
   "id": "e579320e",
   "metadata": {
    "execution": {
     "iopub.execute_input": "2023-05-24T16:47:29.066884Z",
     "iopub.status.busy": "2023-05-24T16:47:29.066809Z",
     "iopub.status.idle": "2023-05-24T16:47:29.068625Z",
     "shell.execute_reply": "2023-05-24T16:47:29.068353Z"
    }
   },
   "outputs": [],
   "source": [
    "x = True\n",
    "y = False\n",
    "print(type(y), type(x))"
   ]
  },
  {
   "attachments": {},
   "cell_type": "markdown",
   "id": "a06dd75e",
   "metadata": {},
   "source": [
    "There is a builtin type for `complex` numbers which have a real and imaginary part."
   ]
  },
  {
   "cell_type": "code",
   "execution_count": null,
   "id": "cd83d444",
   "metadata": {
    "execution": {
     "iopub.execute_input": "2023-05-24T16:47:29.070001Z",
     "iopub.status.busy": "2023-05-24T16:47:29.069928Z",
     "iopub.status.idle": "2023-05-24T16:47:29.071624Z",
     "shell.execute_reply": "2023-05-24T16:47:29.071387Z"
    }
   },
   "outputs": [],
   "source": [
    "x = 1.0 + 4.0j\n",
    "print(type(x))"
   ]
  },
  {
   "attachments": {},
   "cell_type": "markdown",
   "id": "407a01aa",
   "metadata": {},
   "source": [
    "Note that Python uses `j` to represent the imaginary part of a complex number. (This is the normal convention in engineering and physics, but in mathematics `i` is used instead.)\n",
    "\n",
    "## 4 Operators\n",
    "\n",
    "An **operator** is a symbol that tells the interpreter to perform a specific mathematical or logical manipulation. Python is rich in built-in operators and provides the following types of operators:\n",
    "\n",
    "### 4.1 Arithmetic Operators\n",
    "\n",
    "The basic arithmetic operators are `+` (addition), `-` (subtraction), `*` (multiplication), `/` (division), `//` (integer division), `%` (modulus), and `**` (exponentiation).\n",
    "\n",
    "In the examples below we are passing the expressions to the `print` function which prints the result to the screen."
   ]
  },
  {
   "cell_type": "code",
   "execution_count": null,
   "id": "651c6b74",
   "metadata": {
    "execution": {
     "iopub.execute_input": "2023-05-24T16:47:29.072965Z",
     "iopub.status.busy": "2023-05-24T16:47:29.072886Z",
     "iopub.status.idle": "2023-05-24T16:47:29.074639Z",
     "shell.execute_reply": "2023-05-24T16:47:29.074341Z"
    }
   },
   "outputs": [],
   "source": [
    "print(20 + 3, 20 - 3)"
   ]
  },
  {
   "cell_type": "markdown",
   "id": "20601743",
   "metadata": {},
   "source": [
    "(Note, the print function can take multiple arguments which are printed separated by a space. We are doing this simply to demonstrate multiple expressions on a single line for compactness.)"
   ]
  },
  {
   "cell_type": "code",
   "execution_count": null,
   "id": "aff29a2d",
   "metadata": {
    "execution": {
     "iopub.execute_input": "2023-05-24T16:47:29.075984Z",
     "iopub.status.busy": "2023-05-24T16:47:29.075913Z",
     "iopub.status.idle": "2023-05-24T16:47:29.077488Z",
     "shell.execute_reply": "2023-05-24T16:47:29.077252Z"
    }
   },
   "outputs": [],
   "source": [
    "print(20 * 3, 20 / 3, 20.0 // 3)  # Note, *integer* division"
   ]
  },
  {
   "cell_type": "markdown",
   "id": "69afae94",
   "metadata": {},
   "source": [
    "In the example above we are using the **integer division** operator `//` which returns the integer part of the result of the division."
   ]
  },
  {
   "cell_type": "code",
   "execution_count": null,
   "id": "c7bf8d2f",
   "metadata": {
    "execution": {
     "iopub.execute_input": "2023-05-24T16:47:29.078818Z",
     "iopub.status.busy": "2023-05-24T16:47:29.078741Z",
     "iopub.status.idle": "2023-05-24T16:47:29.080362Z",
     "shell.execute_reply": "2023-05-24T16:47:29.080147Z"
    }
   },
   "outputs": [],
   "source": [
    "print(20 % 3, 20.5 % 3.1)  # Modulus, i.e. remainder"
   ]
  },
  {
   "cell_type": "markdown",
   "id": "09f55c75",
   "metadata": {},
   "source": [
    "There are also a set of operators that act on a variable **inplace**. For example, the `+=` operator adds a value to a variable and stores the result back in the variable."
   ]
  },
  {
   "cell_type": "code",
   "execution_count": null,
   "id": "8042dfb2",
   "metadata": {
    "execution": {
     "iopub.execute_input": "2023-05-24T16:47:29.081698Z",
     "iopub.status.busy": "2023-05-24T16:47:29.081606Z",
     "iopub.status.idle": "2023-05-24T16:47:29.083296Z",
     "shell.execute_reply": "2023-05-24T16:47:29.083029Z"
    }
   },
   "outputs": [],
   "source": [
    "a = 1\n",
    "a += 1\n",
    "print(a)"
   ]
  },
  {
   "cell_type": "markdown",
   "id": "7a69c95b",
   "metadata": {},
   "source": [
    "This would be equivalent to"
   ]
  },
  {
   "cell_type": "code",
   "execution_count": null,
   "id": "bf36b0cb",
   "metadata": {
    "execution": {
     "iopub.execute_input": "2023-05-24T16:47:29.084672Z",
     "iopub.status.busy": "2023-05-24T16:47:29.084596Z",
     "iopub.status.idle": "2023-05-24T16:47:29.086250Z",
     "shell.execute_reply": "2023-05-24T16:47:29.086016Z"
    }
   },
   "outputs": [],
   "source": [
    "a = a + 1"
   ]
  },
  {
   "attachments": {},
   "cell_type": "markdown",
   "id": "109168f2",
   "metadata": {},
   "source": [
    "It is recommended to use the inplace operators where possible as they are more efficient and can be more compact.\n",
    "\n",
    "Other inplace operators include `-=` (subtraction), `*=` (multiplication), `/=` (division), `//=` (integer division), `%=` (modulus), and `**=` (exponentiation).\n",
    "\n",
    "For example, to multiply a variably by 5 we could write,"
   ]
  },
  {
   "cell_type": "code",
   "execution_count": null,
   "id": "797b6b6a",
   "metadata": {
    "execution": {
     "iopub.execute_input": "2023-09-08T12:12:14.698932Z",
     "iopub.status.busy": "2023-09-08T12:12:14.698856Z",
     "iopub.status.idle": "2023-09-08T12:12:14.700456Z",
     "shell.execute_reply": "2023-09-08T12:12:14.700232Z"
    }
   },
   "outputs": [],
   "source": [
    "a = 2.0\n",
    "a *= 5\n",
    "print(a)"
   ]
  },
  {
   "cell_type": "markdown",
   "id": "73e8ecde",
   "metadata": {},
   "source": [
    "## 4.2 Comparisons\n",
    "\n",
    "Comparisons operation take a pair of values or expression and return a Boolean value (`True` or `False`).\n",
    "\n",
    "The Python comparison operators include `==` (equal), `!=` (not equal), `>` (greater than), `<` (less than), `>=` (greater than or equal), and `<=` (less than or equal)."
   ]
  },
  {
   "cell_type": "code",
   "execution_count": null,
   "id": "928033fc",
   "metadata": {
    "execution": {
     "iopub.execute_input": "2023-05-24T16:47:29.087564Z",
     "iopub.status.busy": "2023-05-24T16:47:29.087487Z",
     "iopub.status.idle": "2023-05-24T16:47:29.089142Z",
     "shell.execute_reply": "2023-05-24T16:47:29.088908Z"
    }
   },
   "outputs": [],
   "source": [
    "print(4 > 7,  4 < 7, 4 >= 7, 4 <= 7)"
   ]
  },
  {
   "cell_type": "code",
   "execution_count": null,
   "id": "a470bd19",
   "metadata": {
    "execution": {
     "iopub.execute_input": "2023-05-24T16:47:29.090499Z",
     "iopub.status.busy": "2023-05-24T16:47:29.090424Z",
     "iopub.status.idle": "2023-05-24T16:47:29.092101Z",
     "shell.execute_reply": "2023-05-24T16:47:29.091882Z"
    }
   },
   "outputs": [],
   "source": [
    "print(4 == 7, 4 != 7)"
   ]
  },
  {
   "attachments": {},
   "cell_type": "markdown",
   "id": "aa6edd88",
   "metadata": {},
   "source": [
    "## 4.3 Logical Operators\n",
    "\n",
    "Logical operators take Boolean values and return Boolean values.\n",
    "\n",
    "The Python logical operators include `and`, `or`, and `not`."
   ]
  },
  {
   "cell_type": "code",
   "execution_count": null,
   "id": "dad034de",
   "metadata": {
    "execution": {
     "iopub.execute_input": "2023-05-24T16:47:29.093437Z",
     "iopub.status.busy": "2023-05-24T16:47:29.093363Z",
     "iopub.status.idle": "2023-05-24T16:47:29.094991Z",
     "shell.execute_reply": "2023-05-24T16:47:29.094764Z"
    }
   },
   "outputs": [],
   "source": [
    "print(4 > 7 and 4 < 7)"
   ]
  },
  {
   "cell_type": "code",
   "execution_count": null,
   "id": "09a3c6f0",
   "metadata": {
    "execution": {
     "iopub.execute_input": "2023-05-24T16:47:29.096306Z",
     "iopub.status.busy": "2023-05-24T16:47:29.096229Z",
     "iopub.status.idle": "2023-05-24T16:47:29.097888Z",
     "shell.execute_reply": "2023-05-24T16:47:29.097655Z"
    }
   },
   "outputs": [],
   "source": [
    "print(4 > 7 or 4 < 7)"
   ]
  },
  {
   "cell_type": "code",
   "execution_count": null,
   "id": "575b0946",
   "metadata": {
    "execution": {
     "iopub.execute_input": "2023-05-24T16:47:29.099238Z",
     "iopub.status.busy": "2023-05-24T16:47:29.099162Z",
     "iopub.status.idle": "2023-05-24T16:47:29.100774Z",
     "shell.execute_reply": "2023-05-24T16:47:29.100541Z"
    }
   },
   "outputs": [],
   "source": [
    "print(not 4 > 7)"
   ]
  },
  {
   "attachments": {},
   "cell_type": "markdown",
   "id": "cff71be3",
   "metadata": {},
   "source": [
    "## 5 Compound Types\n",
    "\n",
    "A compound type is a type that can contain other types. Python has the following built-in compound types:\n",
    "\n",
    "* **Strings**\n",
    "* **Lists**\n",
    "* **Tuples**\n",
    "* **Sets**\n",
    "* **Dictionaries**\n",
    "\n",
    "### 5.1 Strings\n",
    "\n",
    "Strings are used to represent text. They can be defined using either single or double quotes."
   ]
  },
  {
   "cell_type": "code",
   "execution_count": null,
   "id": "db268d94",
   "metadata": {
    "execution": {
     "iopub.execute_input": "2023-05-24T16:47:29.102213Z",
     "iopub.status.busy": "2023-05-24T16:47:29.102119Z",
     "iopub.status.idle": "2023-05-24T16:47:29.103787Z",
     "shell.execute_reply": "2023-05-24T16:47:29.103540Z"
    }
   },
   "outputs": [],
   "source": [
    "city = \"Sheffield\"\n",
    "print(type(city))"
   ]
  },
  {
   "cell_type": "code",
   "execution_count": null,
   "id": "c78b93e8",
   "metadata": {
    "execution": {
     "iopub.execute_input": "2023-05-24T16:47:29.105143Z",
     "iopub.status.busy": "2023-05-24T16:47:29.105072Z",
     "iopub.status.idle": "2023-05-24T16:47:29.106711Z",
     "shell.execute_reply": "2023-05-24T16:47:29.106478Z"
    }
   },
   "outputs": [],
   "source": [
    "city = 'Sheffi\"eld'   # can use \" or '\n",
    "print(type(city))"
   ]
  },
  {
   "cell_type": "markdown",
   "id": "86fd9889",
   "metadata": {},
   "source": [
    "A string can be thought of as a `list` of characters (we will see more about lists in the next section). A common operation for lists is to retrieve a single entry from the list. This can be done using the **indexing** operator `[]`. So for example, to retrieve the first character of a string we would write,"
   ]
  },
  {
   "cell_type": "code",
   "execution_count": null,
   "id": "7ca83d59",
   "metadata": {
    "execution": {
     "iopub.execute_input": "2023-05-24T16:47:29.108009Z",
     "iopub.status.busy": "2023-05-24T16:47:29.107927Z",
     "iopub.status.idle": "2023-05-24T16:47:29.109908Z",
     "shell.execute_reply": "2023-05-24T16:47:29.109639Z"
    }
   },
   "outputs": [],
   "source": [
    "city = \"Sheffield\"\n",
    "print(city[0])  # strings are like lists characters"
   ]
  },
  {
   "cell_type": "markdown",
   "id": "0ab39e2c",
   "metadata": {},
   "source": [
    "Strings can be joined together using the `+` operator."
   ]
  },
  {
   "cell_type": "code",
   "execution_count": null,
   "id": "6a08030e",
   "metadata": {
    "execution": {
     "iopub.execute_input": "2023-05-24T16:47:29.111323Z",
     "iopub.status.busy": "2023-05-24T16:47:29.111242Z",
     "iopub.status.idle": "2023-05-24T16:47:29.112983Z",
     "shell.execute_reply": "2023-05-24T16:47:29.112756Z"
    }
   },
   "outputs": [],
   "source": [
    "city = 'Sheffi\"eld'   # can use \" or '\n",
    "print('Jon' + ' ' + 'Barker')  # string concatenation"
   ]
  },
  {
   "attachments": {},
   "cell_type": "markdown",
   "id": "a2833d12",
   "metadata": {},
   "source": [
    "Note here how the meaning of the `+` operator depends on the types of things it is being applied to. When applied to numbers it performs addition, but when applied to strings it performs concatenation.\n",
    "\n",
    "#### A note on Classes and Methods\n",
    "\n",
    "The type `str,` like all types in Python is represented by a  `class`. If you have not studied object-orientated programming before don't worry about what this means for now. All you need to know at this point is that a class is a type that has associated functions (called **methods**) that can be applied to objects of that type.\n",
    "\n",
    "There are many methods that can be applied to string objects. To apply a method to a variable we use the following syntax, `variable.method()`.\n",
    "\n",
    "For example, the string class has a method called `upper` that returns a new string with all the characters in uppercase, and a method called `lower` that returns a new string with all the characters in lowercase. To apply these methods to a string we would write,"
   ]
  },
  {
   "cell_type": "code",
   "execution_count": null,
   "id": "2af9c738",
   "metadata": {
    "execution": {
     "iopub.execute_input": "2023-05-24T16:47:29.114315Z",
     "iopub.status.busy": "2023-05-24T16:47:29.114239Z",
     "iopub.status.idle": "2023-05-24T16:47:29.116059Z",
     "shell.execute_reply": "2023-05-24T16:47:29.115818Z"
    }
   },
   "outputs": [],
   "source": [
    "city = \"sheffield\"\n",
    "print(city.upper())\n",
    "print(city.lower())"
   ]
  },
  {
   "cell_type": "code",
   "execution_count": null,
   "id": "6ae3c08f",
   "metadata": {
    "execution": {
     "iopub.execute_input": "2023-05-24T16:47:29.117458Z",
     "iopub.status.busy": "2023-05-24T16:47:29.117374Z",
     "iopub.status.idle": "2023-05-24T16:47:29.124653Z",
     "shell.execute_reply": "2023-05-24T16:47:29.124428Z"
    }
   },
   "outputs": [],
   "source": [
    "# help(str)"
   ]
  },
  {
   "attachments": {},
   "cell_type": "markdown",
   "id": "9c313725",
   "metadata": {},
   "source": [
    "### 5.2 Lists\n",
    "\n",
    "Lists are like strings except the elements can be any type. Lists are defined using square brackets with list elements separated by commas, e.g., as follows,"
   ]
  },
  {
   "cell_type": "code",
   "execution_count": null,
   "id": "47078eb4",
   "metadata": {
    "execution": {
     "iopub.execute_input": "2023-05-24T16:47:29.126034Z",
     "iopub.status.busy": "2023-05-24T16:47:29.125950Z",
     "iopub.status.idle": "2023-05-24T16:47:29.127637Z",
     "shell.execute_reply": "2023-05-24T16:47:29.127412Z"
    }
   },
   "outputs": [],
   "source": [
    "primes = [2, 3, 5, 7, 11]\n",
    "print(type(primes))"
   ]
  },
  {
   "cell_type": "code",
   "execution_count": null,
   "id": "b7d18876",
   "metadata": {
    "execution": {
     "iopub.execute_input": "2023-05-24T16:47:29.128968Z",
     "iopub.status.busy": "2023-05-24T16:47:29.128886Z",
     "iopub.status.idle": "2023-05-24T16:47:29.130629Z",
     "shell.execute_reply": "2023-05-24T16:47:29.130405Z"
    }
   },
   "outputs": [],
   "source": [
    "vowels = ['a', 'e', 'i', 'o', 'u']\n",
    "print(type(vowels))"
   ]
  },
  {
   "cell_type": "code",
   "execution_count": null,
   "id": "2ecdd951",
   "metadata": {
    "execution": {
     "iopub.execute_input": "2023-05-24T16:47:29.132013Z",
     "iopub.status.busy": "2023-05-24T16:47:29.131939Z",
     "iopub.status.idle": "2023-05-24T16:47:29.133777Z",
     "shell.execute_reply": "2023-05-24T16:47:29.133517Z"
    }
   },
   "outputs": [],
   "source": [
    "days = ['Mon', 'Tues', 'Weds', 'Thur', 'Fri', 'Sat', 'Sun']\n",
    "print(days)"
   ]
  },
  {
   "cell_type": "code",
   "execution_count": null,
   "id": "5d55bdfa",
   "metadata": {
    "execution": {
     "iopub.execute_input": "2023-05-24T16:47:29.135100Z",
     "iopub.status.busy": "2023-05-24T16:47:29.135023Z",
     "iopub.status.idle": "2023-05-24T16:47:29.136769Z",
     "shell.execute_reply": "2023-05-24T16:47:29.136543Z"
    }
   },
   "outputs": [],
   "source": [
    "weird = [1, 'Monday', 1.4, False, 4+5j]  # Mixed types\n",
    "print(weird)"
   ]
  },
  {
   "cell_type": "code",
   "execution_count": null,
   "id": "8f33f7de",
   "metadata": {
    "execution": {
     "iopub.execute_input": "2023-05-24T16:47:29.138121Z",
     "iopub.status.busy": "2023-05-24T16:47:29.138044Z",
     "iopub.status.idle": "2023-05-24T16:47:29.139995Z",
     "shell.execute_reply": "2023-05-24T16:47:29.139750Z"
    }
   },
   "outputs": [],
   "source": [
    "list_of_lists = [[1, 2, 3, 4], [2, 3, 4], [3, 4]]\n",
    "print(list_of_lists)\n",
    "print(list_of_lists[1])"
   ]
  },
  {
   "attachments": {},
   "cell_type": "markdown",
   "id": "bcdfc357",
   "metadata": {},
   "source": [
    "#### 5.2.1 List indexing"
   ]
  },
  {
   "cell_type": "code",
   "execution_count": null,
   "id": "69b2d406",
   "metadata": {
    "execution": {
     "iopub.execute_input": "2023-05-24T16:47:29.141333Z",
     "iopub.status.busy": "2023-05-24T16:47:29.141254Z",
     "iopub.status.idle": "2023-05-24T16:47:29.142880Z",
     "shell.execute_reply": "2023-05-24T16:47:29.142630Z"
    }
   },
   "outputs": [],
   "source": [
    "days = ['Mon', 'Tues', 'Weds', 'Thur', 'Fri', 'Sat', 'Sun']"
   ]
  },
  {
   "cell_type": "code",
   "execution_count": null,
   "id": "e4fbb804",
   "metadata": {
    "execution": {
     "iopub.execute_input": "2023-05-24T16:47:29.144205Z",
     "iopub.status.busy": "2023-05-24T16:47:29.144126Z",
     "iopub.status.idle": "2023-05-24T16:47:29.145677Z",
     "shell.execute_reply": "2023-05-24T16:47:29.145422Z"
    }
   },
   "outputs": [],
   "source": [
    "print(days[0])"
   ]
  },
  {
   "cell_type": "code",
   "execution_count": null,
   "id": "0d7ab92c",
   "metadata": {
    "execution": {
     "iopub.execute_input": "2023-05-24T16:47:29.147001Z",
     "iopub.status.busy": "2023-05-24T16:47:29.146905Z",
     "iopub.status.idle": "2023-05-24T16:47:29.148543Z",
     "shell.execute_reply": "2023-05-24T16:47:29.148319Z"
    }
   },
   "outputs": [],
   "source": [
    "print(days[1:3])"
   ]
  },
  {
   "cell_type": "code",
   "execution_count": null,
   "id": "8ff4992e",
   "metadata": {
    "execution": {
     "iopub.execute_input": "2023-05-24T16:47:29.149815Z",
     "iopub.status.busy": "2023-05-24T16:47:29.149739Z",
     "iopub.status.idle": "2023-05-24T16:47:29.151800Z",
     "shell.execute_reply": "2023-05-24T16:47:29.151565Z"
    }
   },
   "outputs": [],
   "source": [
    "print(days[:])"
   ]
  },
  {
   "cell_type": "code",
   "execution_count": null,
   "id": "029f3c93",
   "metadata": {
    "execution": {
     "iopub.execute_input": "2023-05-24T16:47:29.153182Z",
     "iopub.status.busy": "2023-05-24T16:47:29.153088Z",
     "iopub.status.idle": "2023-05-24T16:47:29.154708Z",
     "shell.execute_reply": "2023-05-24T16:47:29.154498Z"
    }
   },
   "outputs": [],
   "source": [
    "print(days[3:])"
   ]
  },
  {
   "cell_type": "code",
   "execution_count": null,
   "id": "902dcaa1",
   "metadata": {
    "execution": {
     "iopub.execute_input": "2023-05-24T16:47:29.155992Z",
     "iopub.status.busy": "2023-05-24T16:47:29.155915Z",
     "iopub.status.idle": "2023-05-24T16:47:29.157667Z",
     "shell.execute_reply": "2023-05-24T16:47:29.157428Z"
    }
   },
   "outputs": [],
   "source": [
    "print(days[::2])      #  start:end:step_size"
   ]
  },
  {
   "attachments": {},
   "cell_type": "markdown",
   "id": "b777fcee",
   "metadata": {},
   "source": [
    "#### 5.2.2 List operations\n",
    "\n",
    "append, count, extend, index, insert, pop, remove, reverse, sort"
   ]
  },
  {
   "cell_type": "code",
   "execution_count": null,
   "id": "8c9880ee",
   "metadata": {
    "execution": {
     "iopub.execute_input": "2023-05-24T16:47:29.159084Z",
     "iopub.status.busy": "2023-05-24T16:47:29.159006Z",
     "iopub.status.idle": "2023-05-24T16:47:29.160814Z",
     "shell.execute_reply": "2023-05-24T16:47:29.160591Z"
    }
   },
   "outputs": [],
   "source": [
    "days = ['Mon', 'Tues', 'Weds', 'Thur', 'Fri', 'Sat', 'Sun']\n",
    "days.reverse()\n",
    "print(days)"
   ]
  },
  {
   "cell_type": "code",
   "execution_count": null,
   "id": "8b88468a",
   "metadata": {
    "execution": {
     "iopub.execute_input": "2023-05-24T16:47:29.162141Z",
     "iopub.status.busy": "2023-05-24T16:47:29.162065Z",
     "iopub.status.idle": "2023-05-24T16:47:29.163992Z",
     "shell.execute_reply": "2023-05-24T16:47:29.163756Z"
    }
   },
   "outputs": [],
   "source": [
    "days = ['Mon', 'Tues', 'Weds', 'Thur', 'Fri', 'Sat', 'Sun']\n",
    "days.sort()\n",
    "print(days)"
   ]
  },
  {
   "cell_type": "code",
   "execution_count": null,
   "id": "ef81ae55",
   "metadata": {
    "execution": {
     "iopub.execute_input": "2023-05-24T16:47:29.165325Z",
     "iopub.status.busy": "2023-05-24T16:47:29.165250Z",
     "iopub.status.idle": "2023-05-24T16:47:29.167073Z",
     "shell.execute_reply": "2023-05-24T16:47:29.166818Z"
    }
   },
   "outputs": [],
   "source": [
    "x = [1, 2, 3, 4]\n",
    "x.extend([5, 6, 7])\n",
    "print(x)"
   ]
  },
  {
   "cell_type": "code",
   "execution_count": null,
   "id": "b796b927",
   "metadata": {
    "execution": {
     "iopub.execute_input": "2023-05-24T16:47:29.168557Z",
     "iopub.status.busy": "2023-05-24T16:47:29.168476Z",
     "iopub.status.idle": "2023-05-24T16:47:29.170197Z",
     "shell.execute_reply": "2023-05-24T16:47:29.169963Z"
    }
   },
   "outputs": [],
   "source": [
    "x = list('Let us go then, you and I')\n",
    "print(x.count('e'))\n",
    "print(x.count(' '))"
   ]
  },
  {
   "attachments": {},
   "cell_type": "markdown",
   "id": "d5f43b86",
   "metadata": {},
   "source": [
    "### 5.3 Tuples\n",
    "\n",
    "Tuples are immutable lists, i.e., they cannot be modified once created."
   ]
  },
  {
   "cell_type": "code",
   "execution_count": null,
   "id": "e7ca1197",
   "metadata": {
    "execution": {
     "iopub.execute_input": "2023-05-24T16:47:29.171531Z",
     "iopub.status.busy": "2023-05-24T16:47:29.171454Z",
     "iopub.status.idle": "2023-05-24T16:47:29.173117Z",
     "shell.execute_reply": "2023-05-24T16:47:29.172895Z"
    }
   },
   "outputs": [],
   "source": [
    "x = (1, 2)   # note () for tuple and [] for lists\n",
    "print(type(x))"
   ]
  },
  {
   "cell_type": "code",
   "execution_count": null,
   "id": "68d4e84f",
   "metadata": {
    "execution": {
     "iopub.execute_input": "2023-05-24T16:47:29.174458Z",
     "iopub.status.busy": "2023-05-24T16:47:29.174382Z",
     "iopub.status.idle": "2023-05-24T16:47:29.176041Z",
     "shell.execute_reply": "2023-05-24T16:47:29.175802Z"
    }
   },
   "outputs": [],
   "source": [
    "x = 1, 2    # the brackets are not strictly necessary\n",
    "print(type(x))"
   ]
  },
  {
   "cell_type": "code",
   "execution_count": null,
   "id": "5abda775",
   "metadata": {
    "execution": {
     "iopub.execute_input": "2023-05-24T16:47:29.177356Z",
     "iopub.status.busy": "2023-05-24T16:47:29.177280Z",
     "iopub.status.idle": "2023-05-24T16:47:29.179042Z",
     "shell.execute_reply": "2023-05-24T16:47:29.178764Z"
    }
   },
   "outputs": [],
   "source": [
    "x = (1, 2)\n",
    "print(x[0])"
   ]
  },
  {
   "cell_type": "code",
   "execution_count": null,
   "id": "2fe47d25",
   "metadata": {
    "execution": {
     "iopub.execute_input": "2023-05-24T16:47:29.180409Z",
     "iopub.status.busy": "2023-05-24T16:47:29.180331Z",
     "iopub.status.idle": "2023-05-24T16:47:29.316235Z",
     "shell.execute_reply": "2023-05-24T16:47:29.315989Z"
    },
    "tags": [
     "raises-exception"
    ]
   },
   "outputs": [],
   "source": [
    "x = (1, 2)\n",
    "x[0] = 5   # Remember, tuples are immutable!"
   ]
  },
  {
   "attachments": {},
   "cell_type": "markdown",
   "id": "49aefc01",
   "metadata": {},
   "source": [
    "#### 5.3.1  Working with tuples"
   ]
  },
  {
   "cell_type": "code",
   "execution_count": null,
   "id": "96845e8e",
   "metadata": {
    "execution": {
     "iopub.execute_input": "2023-05-24T16:47:29.317933Z",
     "iopub.status.busy": "2023-05-24T16:47:29.317831Z",
     "iopub.status.idle": "2023-05-24T16:47:29.319657Z",
     "shell.execute_reply": "2023-05-24T16:47:29.319422Z"
    }
   },
   "outputs": [],
   "source": [
    "pos = (10, 20, 30)\n",
    "(x, y, z) = pos   # 'unpack' tuple into separate variables\n",
    "print(x)"
   ]
  },
  {
   "cell_type": "code",
   "execution_count": null,
   "id": "67a8c5f6",
   "metadata": {
    "execution": {
     "iopub.execute_input": "2023-05-24T16:47:29.321094Z",
     "iopub.status.busy": "2023-05-24T16:47:29.320992Z",
     "iopub.status.idle": "2023-05-24T16:47:29.324038Z",
     "shell.execute_reply": "2023-05-24T16:47:29.323805Z"
    }
   },
   "outputs": [],
   "source": [
    "pos1 = (10, 20, 30)\n",
    "pos2 = (10, 25, 30)\n",
    "pos1 == pos2    # true iff all elements equal"
   ]
  },
  {
   "cell_type": "code",
   "execution_count": null,
   "id": "5a3cad09",
   "metadata": {
    "execution": {
     "iopub.execute_input": "2023-05-24T16:47:29.325403Z",
     "iopub.status.busy": "2023-05-24T16:47:29.325320Z",
     "iopub.status.idle": "2023-05-24T16:47:29.327041Z",
     "shell.execute_reply": "2023-05-24T16:47:29.326818Z"
    }
   },
   "outputs": [],
   "source": [
    "x, y = 10, 15\n",
    "x, y = y, x    # Can swap variables with a single line!\n",
    "print(x, y)"
   ]
  },
  {
   "attachments": {},
   "cell_type": "markdown",
   "id": "4ace6f9f",
   "metadata": {},
   "source": [
    "### 5.4 Sets\n",
    "\n",
    "A set can be defined by placing items inside curly braces, e.g."
   ]
  },
  {
   "cell_type": "code",
   "execution_count": null,
   "id": "cd8bc97a",
   "metadata": {
    "execution": {
     "iopub.execute_input": "2023-05-24T16:47:29.328465Z",
     "iopub.status.busy": "2023-05-24T16:47:29.328384Z",
     "iopub.status.idle": "2023-05-24T16:47:29.330100Z",
     "shell.execute_reply": "2023-05-24T16:47:29.329872Z"
    }
   },
   "outputs": [],
   "source": [
    "x = {10, 20, 30, 40}\n",
    "print(type(x))"
   ]
  },
  {
   "attachments": {},
   "cell_type": "markdown",
   "id": "db3e56c5",
   "metadata": {},
   "source": [
    "The items in a set must be unique. Sets are defined using curly brackets."
   ]
  },
  {
   "cell_type": "code",
   "execution_count": null,
   "id": "62a9be8c",
   "metadata": {
    "execution": {
     "iopub.execute_input": "2023-05-24T16:47:29.331443Z",
     "iopub.status.busy": "2023-05-24T16:47:29.331364Z",
     "iopub.status.idle": "2023-05-24T16:47:29.333094Z",
     "shell.execute_reply": "2023-05-24T16:47:29.332858Z"
    }
   },
   "outputs": [],
   "source": [
    "x = {1, 2, 3, 4}\n",
    "print(x)"
   ]
  },
  {
   "attachments": {},
   "cell_type": "markdown",
   "id": "f664edb1",
   "metadata": {},
   "source": [
    "What happens if we try to store duplicated items in a set?"
   ]
  },
  {
   "cell_type": "code",
   "execution_count": null,
   "id": "e2b284c0",
   "metadata": {
    "execution": {
     "iopub.execute_input": "2023-05-24T16:47:29.334539Z",
     "iopub.status.busy": "2023-05-24T16:47:29.334441Z",
     "iopub.status.idle": "2023-05-24T16:47:29.336183Z",
     "shell.execute_reply": "2023-05-24T16:47:29.335941Z"
    }
   },
   "outputs": [],
   "source": [
    "x = {1, 2, 3, 4, 3, 2, 1, 2}\n",
    "print(x)"
   ]
  },
  {
   "attachments": {},
   "cell_type": "markdown",
   "id": "e1eb2ac5",
   "metadata": {},
   "source": [
    "Set supports all the usual set operations."
   ]
  },
  {
   "cell_type": "code",
   "execution_count": null,
   "id": "c916a7b2",
   "metadata": {
    "execution": {
     "iopub.execute_input": "2023-05-24T16:47:29.337607Z",
     "iopub.status.busy": "2023-05-24T16:47:29.337513Z",
     "iopub.status.idle": "2023-05-24T16:47:29.339517Z",
     "shell.execute_reply": "2023-05-24T16:47:29.339262Z"
    }
   },
   "outputs": [],
   "source": [
    "print({1,2,3,7,8, 9}.intersection({1,3,6,7,10}))\n",
    "print({1,2,3,7,8, 9}.union({1,3,6,7,10}))\n",
    "print({1,2,3,7,8, 9}.difference({1,3,6,7,10}))"
   ]
  },
  {
   "cell_type": "code",
   "execution_count": null,
   "id": "316d79bb",
   "metadata": {
    "execution": {
     "iopub.execute_input": "2023-05-24T16:47:29.340852Z",
     "iopub.status.busy": "2023-05-24T16:47:29.340758Z",
     "iopub.status.idle": "2023-05-24T16:47:29.344810Z",
     "shell.execute_reply": "2023-05-24T16:47:29.344558Z"
    }
   },
   "outputs": [],
   "source": [
    "# Full documentation -- lines starting with '#' are comments.\n",
    "help(set)"
   ]
  },
  {
   "attachments": {},
   "cell_type": "markdown",
   "id": "34e3ca53",
   "metadata": {},
   "source": [
    "### 5.5 Dictionaries\n",
    "\n",
    "A dictionary maps from a unique key to a value"
   ]
  },
  {
   "cell_type": "code",
   "execution_count": null,
   "id": "57c18a6d",
   "metadata": {
    "execution": {
     "iopub.execute_input": "2023-05-24T16:47:29.346166Z",
     "iopub.status.busy": "2023-05-24T16:47:29.346091Z",
     "iopub.status.idle": "2023-05-24T16:47:29.347769Z",
     "shell.execute_reply": "2023-05-24T16:47:29.347534Z"
    }
   },
   "outputs": [],
   "source": [
    "office = {'jon': 123, 'jane':146, 'fred':245}"
   ]
  },
  {
   "cell_type": "code",
   "execution_count": null,
   "id": "deb0d1f8",
   "metadata": {
    "execution": {
     "iopub.execute_input": "2023-05-24T16:47:29.349028Z",
     "iopub.status.busy": "2023-05-24T16:47:29.348950Z",
     "iopub.status.idle": "2023-05-24T16:47:29.350765Z",
     "shell.execute_reply": "2023-05-24T16:47:29.350477Z"
    }
   },
   "outputs": [],
   "source": [
    "office = {'jon': 123, 'jane':146, 'fred':245}\n",
    "print(type(office))"
   ]
  },
  {
   "cell_type": "code",
   "execution_count": null,
   "id": "874cbc0e",
   "metadata": {
    "execution": {
     "iopub.execute_input": "2023-05-24T16:47:29.352108Z",
     "iopub.status.busy": "2023-05-24T16:47:29.352022Z",
     "iopub.status.idle": "2023-05-24T16:47:29.353817Z",
     "shell.execute_reply": "2023-05-24T16:47:29.353562Z"
    }
   },
   "outputs": [],
   "source": [
    "office = {'jon': 123, 'jane':146, 'fred':245}\n",
    "print(office['jon'])   # look up a value for a given key"
   ]
  },
  {
   "cell_type": "code",
   "execution_count": null,
   "id": "03f0f86e",
   "metadata": {
    "execution": {
     "iopub.execute_input": "2023-05-24T16:47:29.355168Z",
     "iopub.status.busy": "2023-05-24T16:47:29.355090Z",
     "iopub.status.idle": "2023-05-24T16:47:29.362789Z",
     "shell.execute_reply": "2023-05-24T16:47:29.362529Z"
    },
    "tags": [
     "raises-exception"
    ]
   },
   "outputs": [],
   "source": [
    "office = {'jon': 123, 'jane':146, 'fred':245}\n",
    "print(office['jose'])  # throws exception if key doesn't exist"
   ]
  },
  {
   "attachments": {},
   "cell_type": "markdown",
   "id": "e2776525",
   "metadata": {},
   "source": [
    "We need to make sure that our keys are unique. e.g. a problem if we have two people called 'jon'!"
   ]
  },
  {
   "cell_type": "code",
   "execution_count": null,
   "id": "bc3e319b",
   "metadata": {
    "execution": {
     "iopub.execute_input": "2023-05-24T16:47:29.364206Z",
     "iopub.status.busy": "2023-05-24T16:47:29.364126Z",
     "iopub.status.idle": "2023-05-24T16:47:29.365959Z",
     "shell.execute_reply": "2023-05-24T16:47:29.365716Z"
    }
   },
   "outputs": [],
   "source": [
    "office = {'jon': 123, 'jane':146, 'fred':245, 'jon': 354}\n",
    "print(office)"
   ]
  },
  {
   "attachments": {},
   "cell_type": "markdown",
   "id": "5a56f111",
   "metadata": {},
   "source": [
    "The later entry has overwritten the earlier one (You might have expected it to raise a run-time error).\n",
    "\n",
    "A better key would be a unique employee ID, e.g. the payroll number.\n",
    "\n",
    "#### 5.5.1 Operations with dictionaries"
   ]
  },
  {
   "cell_type": "code",
   "execution_count": null,
   "id": "5c88f875",
   "metadata": {
    "execution": {
     "iopub.execute_input": "2023-05-24T16:47:29.367402Z",
     "iopub.status.busy": "2023-05-24T16:47:29.367324Z",
     "iopub.status.idle": "2023-05-24T16:47:29.369101Z",
     "shell.execute_reply": "2023-05-24T16:47:29.368862Z"
    }
   },
   "outputs": [],
   "source": [
    "office = {'jon': 123, 'jane':146, 'fred':245, 'jon': 354}\n",
    "office['jose'] = 282  # add a new key-value pair\n",
    "print(office)"
   ]
  },
  {
   "cell_type": "code",
   "execution_count": null,
   "id": "5911170b",
   "metadata": {
    "execution": {
     "iopub.execute_input": "2023-05-24T16:47:29.370466Z",
     "iopub.status.busy": "2023-05-24T16:47:29.370389Z",
     "iopub.status.idle": "2023-05-24T16:47:29.372106Z",
     "shell.execute_reply": "2023-05-24T16:47:29.371870Z"
    }
   },
   "outputs": [],
   "source": [
    "print(office.keys())   # return the list of keys"
   ]
  },
  {
   "cell_type": "code",
   "execution_count": null,
   "id": "b8a27e5f",
   "metadata": {
    "execution": {
     "iopub.execute_input": "2023-05-24T16:47:29.373412Z",
     "iopub.status.busy": "2023-05-24T16:47:29.373340Z",
     "iopub.status.idle": "2023-05-24T16:47:29.375059Z",
     "shell.execute_reply": "2023-05-24T16:47:29.374832Z"
    }
   },
   "outputs": [],
   "source": [
    "print(office.values()) # return the list of values"
   ]
  },
  {
   "cell_type": "code",
   "execution_count": null,
   "id": "5135b5be",
   "metadata": {
    "execution": {
     "iopub.execute_input": "2023-05-24T16:47:29.376304Z",
     "iopub.status.busy": "2023-05-24T16:47:29.376224Z",
     "iopub.status.idle": "2023-05-24T16:47:29.377928Z",
     "shell.execute_reply": "2023-05-24T16:47:29.377665Z"
    }
   },
   "outputs": [],
   "source": [
    "print('jon' in office)  # check if a key exists"
   ]
  },
  {
   "attachments": {},
   "cell_type": "markdown",
   "id": "240d9d4c",
   "metadata": {},
   "source": [
    "## 6 Control Flow\n",
    "\n",
    "* **if-elif-else**\n",
    "* **for loops**\n",
    "* **while loops**\n",
    "\n",
    "### 6.1 if-elif-else"
   ]
  },
  {
   "cell_type": "code",
   "execution_count": null,
   "id": "f4ce86d8",
   "metadata": {
    "execution": {
     "iopub.execute_input": "2023-05-24T16:47:29.379235Z",
     "iopub.status.busy": "2023-05-24T16:47:29.379157Z",
     "iopub.status.idle": "2023-05-24T16:47:29.381004Z",
     "shell.execute_reply": "2023-05-24T16:47:29.380749Z"
    }
   },
   "outputs": [],
   "source": [
    "x = 20\n",
    "if x > 10:\n",
    "    print(str(x) + ' is larger than 10')  # Must be indented!\n",
    "else:\n",
    "    print(str(x) + ' is smaller than 10')"
   ]
  },
  {
   "cell_type": "code",
   "execution_count": null,
   "id": "1bad1979",
   "metadata": {
    "execution": {
     "iopub.execute_input": "2023-05-24T16:47:29.382326Z",
     "iopub.status.busy": "2023-05-24T16:47:29.382249Z",
     "iopub.status.idle": "2023-05-24T16:47:29.384143Z",
     "shell.execute_reply": "2023-05-24T16:47:29.383889Z"
    }
   },
   "outputs": [],
   "source": [
    "grade = 75\n",
    "if grade >= 70:\n",
    "    print('Distinction') # Note, lines share the same indentation\n",
    "    print('well done!')\n",
    "elif grade >= 50:\n",
    "    print('you have passed')\n",
    "else:\n",
    "    print('FAIL!')"
   ]
  },
  {
   "attachments": {},
   "cell_type": "markdown",
   "id": "deb27c43",
   "metadata": {},
   "source": [
    "### 6.2 For loops\n",
    "\n",
    "For-loops iterate over 'iterables' (lists, dictionaries,...)"
   ]
  },
  {
   "cell_type": "code",
   "execution_count": null,
   "id": "deddb9bd",
   "metadata": {
    "execution": {
     "iopub.execute_input": "2023-05-24T16:47:29.385576Z",
     "iopub.status.busy": "2023-05-24T16:47:29.385500Z",
     "iopub.status.idle": "2023-05-24T16:47:29.387282Z",
     "shell.execute_reply": "2023-05-24T16:47:29.387041Z"
    }
   },
   "outputs": [],
   "source": [
    "sum = 0\n",
    "for x in [1, 2, 3, 4, 5]:\n",
    "    sum += x\n",
    "print(sum)"
   ]
  },
  {
   "cell_type": "code",
   "execution_count": null,
   "id": "1968a3b9",
   "metadata": {
    "execution": {
     "iopub.execute_input": "2023-05-24T16:47:29.388615Z",
     "iopub.status.busy": "2023-05-24T16:47:29.388539Z",
     "iopub.status.idle": "2023-05-24T16:47:29.390313Z",
     "shell.execute_reply": "2023-05-24T16:47:29.390082Z"
    }
   },
   "outputs": [],
   "source": [
    "week = ['mon', 'tuesday', 'weds', 'thur', 'fri']\n",
    "for day in week:\n",
    "    print(day.center(20,' '))"
   ]
  },
  {
   "attachments": {},
   "cell_type": "markdown",
   "id": "7bad707d",
   "metadata": {},
   "source": [
    "To loop over integer values we can generate a list using range()"
   ]
  },
  {
   "cell_type": "code",
   "execution_count": null,
   "id": "074feb8f",
   "metadata": {
    "execution": {
     "iopub.execute_input": "2023-05-24T16:47:29.391711Z",
     "iopub.status.busy": "2023-05-24T16:47:29.391635Z",
     "iopub.status.idle": "2023-05-24T16:47:29.393344Z",
     "shell.execute_reply": "2023-05-24T16:47:29.393090Z"
    }
   },
   "outputs": [],
   "source": [
    "my_range = range(10)\n",
    "print(list(my_range))    # range() generates a list of numbers"
   ]
  },
  {
   "cell_type": "code",
   "execution_count": null,
   "id": "5c6c9c63",
   "metadata": {
    "execution": {
     "iopub.execute_input": "2023-05-24T16:47:29.394604Z",
     "iopub.status.busy": "2023-05-24T16:47:29.394531Z",
     "iopub.status.idle": "2023-05-24T16:47:29.396214Z",
     "shell.execute_reply": "2023-05-24T16:47:29.395975Z"
    }
   },
   "outputs": [],
   "source": [
    "print(list(range(5, 25, 2)))  # range(start, end, skip)"
   ]
  },
  {
   "cell_type": "code",
   "execution_count": null,
   "id": "07e8e97d",
   "metadata": {
    "execution": {
     "iopub.execute_input": "2023-05-24T16:47:29.397444Z",
     "iopub.status.busy": "2023-05-24T16:47:29.397369Z",
     "iopub.status.idle": "2023-05-24T16:47:29.398929Z",
     "shell.execute_reply": "2023-05-24T16:47:29.398705Z"
    }
   },
   "outputs": [],
   "source": [
    "for x in range(0, 50, 5):\n",
    "    print(x)"
   ]
  },
  {
   "attachments": {},
   "cell_type": "markdown",
   "id": "760922b5",
   "metadata": {},
   "source": [
    "### 6.3 While loops\n",
    "\n",
    "While loops are much as you would expect. But note, no 'while - until loop'"
   ]
  },
  {
   "cell_type": "code",
   "execution_count": null,
   "id": "3c6d2f30",
   "metadata": {
    "execution": {
     "iopub.execute_input": "2023-05-24T16:47:29.400303Z",
     "iopub.status.busy": "2023-05-24T16:47:29.400208Z",
     "iopub.status.idle": "2023-05-24T16:47:29.402189Z",
     "shell.execute_reply": "2023-05-24T16:47:29.401954Z"
    }
   },
   "outputs": [],
   "source": [
    "x = 127\n",
    "output = []\n",
    "while x != 1:\n",
    "    if x % 2 == 0:\n",
    "        x /= 2  # if x is even\n",
    "    else:\n",
    "        x = x * 3 + 1  # if x is odd\n",
    "    output.append(x)\n",
    "print(output)"
   ]
  },
  {
   "attachments": {},
   "cell_type": "markdown",
   "id": "7ee34d9e",
   "metadata": {},
   "source": [
    "## 7 Functions\n",
    "\n",
    "Functions are introduced with the keyword 'def'\n",
    "\n",
    "Neither parameters nor return values need type declarations.\n",
    "\n",
    "Function body must be indented."
   ]
  },
  {
   "cell_type": "code",
   "execution_count": null,
   "id": "f4902183",
   "metadata": {
    "execution": {
     "iopub.execute_input": "2023-05-24T16:47:29.403590Z",
     "iopub.status.busy": "2023-05-24T16:47:29.403499Z",
     "iopub.status.idle": "2023-05-24T16:47:29.405154Z",
     "shell.execute_reply": "2023-05-24T16:47:29.404918Z"
    }
   },
   "outputs": [],
   "source": [
    "def sum_list(data):\n",
    "    sum = 0\n",
    "    for x in data:\n",
    "        sum += x\n",
    "    return sum"
   ]
  },
  {
   "cell_type": "code",
   "execution_count": null,
   "id": "985aa65e",
   "metadata": {
    "execution": {
     "iopub.execute_input": "2023-05-24T16:47:29.406427Z",
     "iopub.status.busy": "2023-05-24T16:47:29.406351Z",
     "iopub.status.idle": "2023-05-24T16:47:29.408193Z",
     "shell.execute_reply": "2023-05-24T16:47:29.407955Z"
    }
   },
   "outputs": [],
   "source": [
    "sum = sum_list([1,2,3,4,5])\n",
    "print(sum)"
   ]
  },
  {
   "attachments": {},
   "cell_type": "markdown",
   "id": "a58d14f8",
   "metadata": {},
   "source": [
    "### 7.1 Function docstring\n",
    "\n",
    "A string can be added directly after the function definition to act as documentation. You should always do this!"
   ]
  },
  {
   "cell_type": "code",
   "execution_count": null,
   "id": "39fed6c3",
   "metadata": {
    "execution": {
     "iopub.execute_input": "2023-05-24T16:47:29.409525Z",
     "iopub.status.busy": "2023-05-24T16:47:29.409453Z",
     "iopub.status.idle": "2023-05-24T16:47:29.411309Z",
     "shell.execute_reply": "2023-05-24T16:47:29.411092Z"
    }
   },
   "outputs": [],
   "source": [
    "def sum_list(data):\n",
    "    \"\"\" Returns the sum of a list of numbers.\"\"\"\n",
    "    sum = 0\n",
    "    # sum the numbers\n",
    "    for x in data:\n",
    "        sum += x\n",
    "    return sum"
   ]
  },
  {
   "cell_type": "code",
   "execution_count": null,
   "id": "c42d7445",
   "metadata": {
    "execution": {
     "iopub.execute_input": "2023-05-24T16:47:29.412647Z",
     "iopub.status.busy": "2023-05-24T16:47:29.412569Z",
     "iopub.status.idle": "2023-05-24T16:47:29.414242Z",
     "shell.execute_reply": "2023-05-24T16:47:29.414022Z"
    }
   },
   "outputs": [],
   "source": [
    "help(sum_list)"
   ]
  },
  {
   "attachments": {},
   "cell_type": "markdown",
   "id": "32d12ce3",
   "metadata": {},
   "source": [
    "Note, triple-quoted strings can contain newlines and quotes.\n",
    "\n",
    "### 7.2 Multiple return values\n",
    "\n",
    "If a function needs to return multiple values they can simply be packed into a tuple"
   ]
  },
  {
   "cell_type": "code",
   "execution_count": null,
   "id": "9625f484",
   "metadata": {
    "execution": {
     "iopub.execute_input": "2023-05-24T16:47:29.415641Z",
     "iopub.status.busy": "2023-05-24T16:47:29.415566Z",
     "iopub.status.idle": "2023-05-24T16:47:29.417375Z",
     "shell.execute_reply": "2023-05-24T16:47:29.417123Z"
    }
   },
   "outputs": [],
   "source": [
    "def find_min_max(data):\n",
    "    \"\"\"Return min and max value in a list\"\"\"\n",
    "    min, max = data[0], data[0]\n",
    "    for x in data:\n",
    "        if x < min:\n",
    "            min = x\n",
    "        elif x > max:\n",
    "            max = x\n",
    "    return min, max"
   ]
  },
  {
   "cell_type": "code",
   "execution_count": null,
   "id": "d6eef549",
   "metadata": {
    "execution": {
     "iopub.execute_input": "2023-05-24T16:47:29.418706Z",
     "iopub.status.busy": "2023-05-24T16:47:29.418632Z",
     "iopub.status.idle": "2023-05-24T16:47:29.420479Z",
     "shell.execute_reply": "2023-05-24T16:47:29.420235Z"
    }
   },
   "outputs": [],
   "source": [
    "min, max = find_min_max([1,4,3,6,-5,6])\n",
    "print('smallest is', min, 'and largest is', max)"
   ]
  },
  {
   "attachments": {},
   "cell_type": "markdown",
   "id": "f5ac24bf",
   "metadata": {},
   "source": [
    "### 7.3 Functions: Default parameter values\n",
    "\n",
    "Parameters can be given default values"
   ]
  },
  {
   "cell_type": "code",
   "execution_count": null,
   "id": "7a63d8a0",
   "metadata": {
    "execution": {
     "iopub.execute_input": "2023-05-24T16:47:29.421846Z",
     "iopub.status.busy": "2023-05-24T16:47:29.421773Z",
     "iopub.status.idle": "2023-05-24T16:47:29.423669Z",
     "shell.execute_reply": "2023-05-24T16:47:29.423443Z"
    }
   },
   "outputs": [],
   "source": [
    "def sum_list(data, debug=False):\n",
    "    \"\"\"Returns the sum of a list of numbers\"\"\"\n",
    "    if debug:\n",
    "        print('Calling sum_list with', data)\n",
    "    sum = 0\n",
    "    for x in data:\n",
    "        sum += x\n",
    "    return sum"
   ]
  },
  {
   "cell_type": "code",
   "execution_count": null,
   "id": "04c3e79f",
   "metadata": {
    "execution": {
     "iopub.execute_input": "2023-05-24T16:47:29.424979Z",
     "iopub.status.busy": "2023-05-24T16:47:29.424902Z",
     "iopub.status.idle": "2023-05-24T16:47:29.426545Z",
     "shell.execute_reply": "2023-05-24T16:47:29.426308Z"
    }
   },
   "outputs": [],
   "source": [
    "print(sum_list(range(5)))"
   ]
  },
  {
   "cell_type": "code",
   "execution_count": null,
   "id": "3ea3eecd",
   "metadata": {
    "execution": {
     "iopub.execute_input": "2023-05-24T16:47:29.427857Z",
     "iopub.status.busy": "2023-05-24T16:47:29.427780Z",
     "iopub.status.idle": "2023-05-24T16:47:29.429415Z",
     "shell.execute_reply": "2023-05-24T16:47:29.429180Z"
    }
   },
   "outputs": [],
   "source": [
    "print(sum_list(range(5), True))"
   ]
  },
  {
   "attachments": {},
   "cell_type": "markdown",
   "id": "3398670b",
   "metadata": {},
   "source": [
    "### 7.4 Functions: Named parameters\n",
    "\n",
    "Parameter can be explicitly named in the function call"
   ]
  },
  {
   "cell_type": "code",
   "execution_count": null,
   "id": "63223a72",
   "metadata": {
    "execution": {
     "iopub.execute_input": "2023-05-24T16:47:29.430748Z",
     "iopub.status.busy": "2023-05-24T16:47:29.430676Z",
     "iopub.status.idle": "2023-05-24T16:47:29.432178Z",
     "shell.execute_reply": "2023-05-24T16:47:29.431968Z"
    }
   },
   "outputs": [],
   "source": [
    "def compute_ratio(num, denom):\n",
    "    return num/denom"
   ]
  },
  {
   "cell_type": "code",
   "execution_count": null,
   "id": "01e901bc",
   "metadata": {
    "execution": {
     "iopub.execute_input": "2023-05-24T16:47:29.433500Z",
     "iopub.status.busy": "2023-05-24T16:47:29.433410Z",
     "iopub.status.idle": "2023-05-24T16:47:29.435276Z",
     "shell.execute_reply": "2023-05-24T16:47:29.435049Z"
    }
   },
   "outputs": [],
   "source": [
    "ratio = compute_ratio(10.0, 2.0)\n",
    "print(ratio)"
   ]
  },
  {
   "cell_type": "code",
   "execution_count": null,
   "id": "127a690a",
   "metadata": {
    "execution": {
     "iopub.execute_input": "2023-05-24T16:47:29.436647Z",
     "iopub.status.busy": "2023-05-24T16:47:29.436551Z",
     "iopub.status.idle": "2023-05-24T16:47:29.438310Z",
     "shell.execute_reply": "2023-05-24T16:47:29.438085Z"
    }
   },
   "outputs": [],
   "source": [
    "ratio = compute_ratio(num=10.0, denom=2.0)\n",
    "print(ratio)"
   ]
  },
  {
   "cell_type": "code",
   "execution_count": null,
   "id": "da632a1f",
   "metadata": {
    "execution": {
     "iopub.execute_input": "2023-05-24T16:47:29.439669Z",
     "iopub.status.busy": "2023-05-24T16:47:29.439578Z",
     "iopub.status.idle": "2023-05-24T16:47:29.441223Z",
     "shell.execute_reply": "2023-05-24T16:47:29.441002Z"
    }
   },
   "outputs": [],
   "source": [
    "ratio = compute_ratio(denom=2, num=10)\n",
    "print(ratio)"
   ]
  },
  {
   "attachments": {},
   "cell_type": "markdown",
   "id": "7ba1684a",
   "metadata": {},
   "source": [
    "### 7.5 Function: named and default parameters\n",
    "\n",
    "Default and named parameters can be conveniently combined.\n",
    "\n",
    "This is useful when there are a large number of parameters but most have default values. e.g.,"
   ]
  },
  {
   "cell_type": "code",
   "execution_count": null,
   "id": "30bf75e6",
   "metadata": {
    "execution": {
     "iopub.execute_input": "2023-05-24T16:47:29.442693Z",
     "iopub.status.busy": "2023-05-24T16:47:29.442599Z",
     "iopub.status.idle": "2023-05-24T16:47:29.444235Z",
     "shell.execute_reply": "2023-05-24T16:47:29.443996Z"
    }
   },
   "outputs": [],
   "source": [
    "def dummy(p1=0.0, p2=0.0, p3=0.0, p4=0.0):\n",
    "    print(p1, p2, p3, p4)"
   ]
  },
  {
   "cell_type": "code",
   "execution_count": null,
   "id": "2ee198fa",
   "metadata": {
    "execution": {
     "iopub.execute_input": "2023-05-24T16:47:29.445540Z",
     "iopub.status.busy": "2023-05-24T16:47:29.445461Z",
     "iopub.status.idle": "2023-05-24T16:47:29.447180Z",
     "shell.execute_reply": "2023-05-24T16:47:29.446943Z"
    }
   },
   "outputs": [],
   "source": [
    "dummy(p3=1.0)"
   ]
  },
  {
   "cell_type": "code",
   "execution_count": null,
   "id": "5b6b7345",
   "metadata": {
    "execution": {
     "iopub.execute_input": "2023-05-24T16:47:29.448506Z",
     "iopub.status.busy": "2023-05-24T16:47:29.448430Z",
     "iopub.status.idle": "2023-05-24T16:47:29.450072Z",
     "shell.execute_reply": "2023-05-24T16:47:29.449851Z"
    }
   },
   "outputs": [],
   "source": [
    "dummy(p1=10.0, p4=2.0)"
   ]
  },
  {
   "attachments": {},
   "cell_type": "markdown",
   "id": "97e23248",
   "metadata": {},
   "source": [
    "## 8 Summary\n",
    "\n",
    "* Python is a dynamically typed language\n",
    "* It has extensive libraries loaded as modules\n",
    "* It has builtin compound types: str, list, tuple, dict\n",
    "* Standard flow control mechanism: if-else, for, while\n",
    "* Can define functions with default and named parameters\n",
    "\n",
    "There are many important features that we have not yet covered which will be introduced in later lectures:\n",
    "\n",
    "* classes\n",
    "* list comprehensions\n",
    "* lambda functions and functions as objects\n",
    "* numpy library\n",
    "\n",
    "```\n",
    "\n",
    "```"
   ]
  }
 ],
 "metadata": {
  "jupytext": {
   "cell_metadata_filter": "-all"
  },
  "kernelspec": {
   "display_name": "Python 3 (ipykernel)",
   "language": "python",
   "name": "python3"
  },
  "language_info": {
   "codemirror_mode": {
    "name": "ipython",
    "version": 3
   },
   "file_extension": ".py",
   "mimetype": "text/x-python",
   "name": "python",
   "nbconvert_exporter": "python",
   "pygments_lexer": "ipython3",
   "version": "3.11.5"
  }
 },
 "nbformat": 4,
 "nbformat_minor": 5
}
